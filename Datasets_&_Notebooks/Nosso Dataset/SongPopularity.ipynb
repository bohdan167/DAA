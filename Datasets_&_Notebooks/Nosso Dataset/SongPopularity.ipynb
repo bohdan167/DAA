{
 "cells": [
  {
   "cell_type": "markdown",
   "metadata": {},
   "source": [
    "# Imports"
   ]
  },
  {
   "cell_type": "code",
   "execution_count": 87,
   "metadata": {},
   "outputs": [],
   "source": [
    "import sklearn as skl\n",
    "import pandas as pd\n",
    "import seaborn as sns\n",
    "import numpy as np\n",
    "import matplotlib.pyplot as plt\n",
    "from sklearn import preprocessing\n",
    "from sklearn.preprocessing import StandardScaler\n",
    "from sklearn.metrics import classification_report, plot_confusion_matrix\n",
    "from sklearn.metrics import accuracy_score\n",
    "from sklearn.metrics import mean_squared_error\n",
    "from sklearn.metrics import mean_absolute_error\n",
    "from sklearn.model_selection import cross_val_score\n",
    "from sklearn.model_selection import train_test_split\n",
    "import datetime\n",
    "%matplotlib inline\n"
   ]
  },
  {
   "attachments": {},
   "cell_type": "markdown",
   "metadata": {},
   "source": [
    "---\n",
    "# Compreensão do Âmbito do Dataset\n",
    "\n",
    "O Dataset de teino é constituido por 18835 casos e pelos seguintes atributos:\n",
    "\n",
    "* **song name:** nome da música\n",
    "* **song_popularity:** valores entre 0 e 100\n",
    "* **song_duration_ms:** duração da música em milisegundos; tipicamente valores entre 200k e 300k\n",
    "* **acousticness:** valores entre 0 e 1\n",
    "* **danceability:** valores entre 0 e 1\n",
    "* **energy:** valores entre 0 e 1\n",
    "* **instrumentalness:** valores entre 0 e 1\n",
    "* **key:** todas as chaves em oitava codificadas como valores entre 0 e 11, começando com C como 0, C como 1, etc.\n",
    "* **liveness:** valores entre 0 e 1\n",
    "* **loudness:** float com valores tipicamente entre -60 e 0\n",
    "* **audio_mode:** 0 = menor, 1 = maior\n",
    "* **speechiness:** valores entre 0 e 1\n",
    "* **tempo:** float com valores tipicamente entre 50 e 150\n",
    "* **audio_valence:** quão felizes a feliz a música é; valores entre 0 e 1\n",
    "* **time-signature:** valores entre 1 e 5"
   ]
  },
  {
   "attachments": {},
   "cell_type": "markdown",
   "metadata": {},
   "source": [
    "---\n",
    "# Compreensão dos Dados"
   ]
  },
  {
   "cell_type": "code",
   "execution_count": 88,
   "metadata": {},
   "outputs": [
    {
     "data": {
      "text/html": [
       "<div>\n",
       "<style scoped>\n",
       "    .dataframe tbody tr th:only-of-type {\n",
       "        vertical-align: middle;\n",
       "    }\n",
       "\n",
       "    .dataframe tbody tr th {\n",
       "        vertical-align: top;\n",
       "    }\n",
       "\n",
       "    .dataframe thead th {\n",
       "        text-align: right;\n",
       "    }\n",
       "</style>\n",
       "<table border=\"1\" class=\"dataframe\">\n",
       "  <thead>\n",
       "    <tr style=\"text-align: right;\">\n",
       "      <th></th>\n",
       "      <th>song_name</th>\n",
       "      <th>song_popularity</th>\n",
       "      <th>song_duration_ms</th>\n",
       "      <th>acousticness</th>\n",
       "      <th>danceability</th>\n",
       "      <th>energy</th>\n",
       "      <th>instrumentalness</th>\n",
       "      <th>key</th>\n",
       "      <th>liveness</th>\n",
       "      <th>loudness</th>\n",
       "      <th>audio_mode</th>\n",
       "      <th>speechiness</th>\n",
       "      <th>tempo</th>\n",
       "      <th>time_signature</th>\n",
       "      <th>audio_valence</th>\n",
       "    </tr>\n",
       "  </thead>\n",
       "  <tbody>\n",
       "    <tr>\n",
       "      <th>0</th>\n",
       "      <td>Boulevard of Broken Dreams</td>\n",
       "      <td>73</td>\n",
       "      <td>262333</td>\n",
       "      <td>0.005520</td>\n",
       "      <td>0.496</td>\n",
       "      <td>0.682</td>\n",
       "      <td>0.000029</td>\n",
       "      <td>8</td>\n",
       "      <td>0.0589</td>\n",
       "      <td>-4.095</td>\n",
       "      <td>1</td>\n",
       "      <td>0.0294</td>\n",
       "      <td>167.060</td>\n",
       "      <td>4</td>\n",
       "      <td>0.474</td>\n",
       "    </tr>\n",
       "    <tr>\n",
       "      <th>1</th>\n",
       "      <td>In The End</td>\n",
       "      <td>66</td>\n",
       "      <td>216933</td>\n",
       "      <td>0.010300</td>\n",
       "      <td>0.542</td>\n",
       "      <td>0.853</td>\n",
       "      <td>0.000000</td>\n",
       "      <td>3</td>\n",
       "      <td>0.1080</td>\n",
       "      <td>-6.407</td>\n",
       "      <td>0</td>\n",
       "      <td>0.0498</td>\n",
       "      <td>105.256</td>\n",
       "      <td>4</td>\n",
       "      <td>0.370</td>\n",
       "    </tr>\n",
       "    <tr>\n",
       "      <th>2</th>\n",
       "      <td>Seven Nation Army</td>\n",
       "      <td>76</td>\n",
       "      <td>231733</td>\n",
       "      <td>0.008170</td>\n",
       "      <td>0.737</td>\n",
       "      <td>0.463</td>\n",
       "      <td>0.447000</td>\n",
       "      <td>0</td>\n",
       "      <td>0.2550</td>\n",
       "      <td>-7.828</td>\n",
       "      <td>1</td>\n",
       "      <td>0.0792</td>\n",
       "      <td>123.881</td>\n",
       "      <td>4</td>\n",
       "      <td>0.324</td>\n",
       "    </tr>\n",
       "    <tr>\n",
       "      <th>3</th>\n",
       "      <td>By The Way</td>\n",
       "      <td>74</td>\n",
       "      <td>216933</td>\n",
       "      <td>0.026400</td>\n",
       "      <td>0.451</td>\n",
       "      <td>0.970</td>\n",
       "      <td>0.003550</td>\n",
       "      <td>0</td>\n",
       "      <td>0.1020</td>\n",
       "      <td>-4.938</td>\n",
       "      <td>1</td>\n",
       "      <td>0.1070</td>\n",
       "      <td>122.444</td>\n",
       "      <td>4</td>\n",
       "      <td>0.198</td>\n",
       "    </tr>\n",
       "    <tr>\n",
       "      <th>4</th>\n",
       "      <td>How You Remind Me</td>\n",
       "      <td>56</td>\n",
       "      <td>223826</td>\n",
       "      <td>0.000954</td>\n",
       "      <td>0.447</td>\n",
       "      <td>0.766</td>\n",
       "      <td>0.000000</td>\n",
       "      <td>10</td>\n",
       "      <td>0.1130</td>\n",
       "      <td>-5.065</td>\n",
       "      <td>1</td>\n",
       "      <td>0.0313</td>\n",
       "      <td>172.011</td>\n",
       "      <td>4</td>\n",
       "      <td>0.574</td>\n",
       "    </tr>\n",
       "  </tbody>\n",
       "</table>\n",
       "</div>"
      ],
      "text/plain": [
       "                    song_name  song_popularity  song_duration_ms  \\\n",
       "0  Boulevard of Broken Dreams               73            262333   \n",
       "1                  In The End               66            216933   \n",
       "2           Seven Nation Army               76            231733   \n",
       "3                  By The Way               74            216933   \n",
       "4           How You Remind Me               56            223826   \n",
       "\n",
       "   acousticness  danceability  energy  instrumentalness  key  liveness  \\\n",
       "0      0.005520         0.496   0.682          0.000029    8    0.0589   \n",
       "1      0.010300         0.542   0.853          0.000000    3    0.1080   \n",
       "2      0.008170         0.737   0.463          0.447000    0    0.2550   \n",
       "3      0.026400         0.451   0.970          0.003550    0    0.1020   \n",
       "4      0.000954         0.447   0.766          0.000000   10    0.1130   \n",
       "\n",
       "   loudness  audio_mode  speechiness    tempo  time_signature  audio_valence  \n",
       "0    -4.095           1       0.0294  167.060               4          0.474  \n",
       "1    -6.407           0       0.0498  105.256               4          0.370  \n",
       "2    -7.828           1       0.0792  123.881               4          0.324  \n",
       "3    -4.938           1       0.1070  122.444               4          0.198  \n",
       "4    -5.065           1       0.0313  172.011               4          0.574  "
      ]
     },
     "execution_count": 88,
     "metadata": {},
     "output_type": "execute_result"
    }
   ],
   "source": [
    "# Get the data \n",
    "song_df = pd.read_csv('song_data.csv')\n",
    "song_df.head()"
   ]
  },
  {
   "cell_type": "code",
   "execution_count": 89,
   "metadata": {},
   "outputs": [
    {
     "data": {
      "text/html": [
       "<div>\n",
       "<style scoped>\n",
       "    .dataframe tbody tr th:only-of-type {\n",
       "        vertical-align: middle;\n",
       "    }\n",
       "\n",
       "    .dataframe tbody tr th {\n",
       "        vertical-align: top;\n",
       "    }\n",
       "\n",
       "    .dataframe thead th {\n",
       "        text-align: right;\n",
       "    }\n",
       "</style>\n",
       "<table border=\"1\" class=\"dataframe\">\n",
       "  <thead>\n",
       "    <tr style=\"text-align: right;\">\n",
       "      <th></th>\n",
       "      <th>song_popularity</th>\n",
       "      <th>song_duration_ms</th>\n",
       "      <th>acousticness</th>\n",
       "      <th>danceability</th>\n",
       "      <th>energy</th>\n",
       "      <th>instrumentalness</th>\n",
       "      <th>key</th>\n",
       "      <th>liveness</th>\n",
       "      <th>loudness</th>\n",
       "      <th>audio_mode</th>\n",
       "      <th>speechiness</th>\n",
       "      <th>tempo</th>\n",
       "      <th>time_signature</th>\n",
       "      <th>audio_valence</th>\n",
       "    </tr>\n",
       "  </thead>\n",
       "  <tbody>\n",
       "    <tr>\n",
       "      <th>count</th>\n",
       "      <td>18835.000000</td>\n",
       "      <td>1.883500e+04</td>\n",
       "      <td>18835.000000</td>\n",
       "      <td>18835.000000</td>\n",
       "      <td>18835.000000</td>\n",
       "      <td>18835.000000</td>\n",
       "      <td>18835.000000</td>\n",
       "      <td>18835.000000</td>\n",
       "      <td>18835.000000</td>\n",
       "      <td>18835.000000</td>\n",
       "      <td>18835.000000</td>\n",
       "      <td>18835.000000</td>\n",
       "      <td>18835.000000</td>\n",
       "      <td>18835.000000</td>\n",
       "    </tr>\n",
       "    <tr>\n",
       "      <th>mean</th>\n",
       "      <td>52.991877</td>\n",
       "      <td>2.182116e+05</td>\n",
       "      <td>0.258539</td>\n",
       "      <td>0.633348</td>\n",
       "      <td>0.644995</td>\n",
       "      <td>0.078008</td>\n",
       "      <td>5.289196</td>\n",
       "      <td>0.179650</td>\n",
       "      <td>-7.447435</td>\n",
       "      <td>0.628139</td>\n",
       "      <td>0.102099</td>\n",
       "      <td>121.073154</td>\n",
       "      <td>3.959119</td>\n",
       "      <td>0.527967</td>\n",
       "    </tr>\n",
       "    <tr>\n",
       "      <th>std</th>\n",
       "      <td>21.905654</td>\n",
       "      <td>5.988754e+04</td>\n",
       "      <td>0.288719</td>\n",
       "      <td>0.156723</td>\n",
       "      <td>0.214101</td>\n",
       "      <td>0.221591</td>\n",
       "      <td>3.614595</td>\n",
       "      <td>0.143984</td>\n",
       "      <td>3.827831</td>\n",
       "      <td>0.483314</td>\n",
       "      <td>0.104378</td>\n",
       "      <td>28.714456</td>\n",
       "      <td>0.298533</td>\n",
       "      <td>0.244632</td>\n",
       "    </tr>\n",
       "    <tr>\n",
       "      <th>min</th>\n",
       "      <td>0.000000</td>\n",
       "      <td>1.200000e+04</td>\n",
       "      <td>0.000001</td>\n",
       "      <td>0.000000</td>\n",
       "      <td>0.001070</td>\n",
       "      <td>0.000000</td>\n",
       "      <td>0.000000</td>\n",
       "      <td>0.010900</td>\n",
       "      <td>-38.768000</td>\n",
       "      <td>0.000000</td>\n",
       "      <td>0.000000</td>\n",
       "      <td>0.000000</td>\n",
       "      <td>0.000000</td>\n",
       "      <td>0.000000</td>\n",
       "    </tr>\n",
       "    <tr>\n",
       "      <th>25%</th>\n",
       "      <td>40.000000</td>\n",
       "      <td>1.843395e+05</td>\n",
       "      <td>0.024100</td>\n",
       "      <td>0.533000</td>\n",
       "      <td>0.510000</td>\n",
       "      <td>0.000000</td>\n",
       "      <td>2.000000</td>\n",
       "      <td>0.092900</td>\n",
       "      <td>-9.044000</td>\n",
       "      <td>0.000000</td>\n",
       "      <td>0.037800</td>\n",
       "      <td>98.368000</td>\n",
       "      <td>4.000000</td>\n",
       "      <td>0.335000</td>\n",
       "    </tr>\n",
       "    <tr>\n",
       "      <th>50%</th>\n",
       "      <td>56.000000</td>\n",
       "      <td>2.113060e+05</td>\n",
       "      <td>0.132000</td>\n",
       "      <td>0.645000</td>\n",
       "      <td>0.674000</td>\n",
       "      <td>0.000011</td>\n",
       "      <td>5.000000</td>\n",
       "      <td>0.122000</td>\n",
       "      <td>-6.555000</td>\n",
       "      <td>1.000000</td>\n",
       "      <td>0.055500</td>\n",
       "      <td>120.013000</td>\n",
       "      <td>4.000000</td>\n",
       "      <td>0.527000</td>\n",
       "    </tr>\n",
       "    <tr>\n",
       "      <th>75%</th>\n",
       "      <td>69.000000</td>\n",
       "      <td>2.428440e+05</td>\n",
       "      <td>0.424000</td>\n",
       "      <td>0.748000</td>\n",
       "      <td>0.815000</td>\n",
       "      <td>0.002570</td>\n",
       "      <td>8.000000</td>\n",
       "      <td>0.221000</td>\n",
       "      <td>-4.908000</td>\n",
       "      <td>1.000000</td>\n",
       "      <td>0.119000</td>\n",
       "      <td>139.931000</td>\n",
       "      <td>4.000000</td>\n",
       "      <td>0.725000</td>\n",
       "    </tr>\n",
       "    <tr>\n",
       "      <th>max</th>\n",
       "      <td>100.000000</td>\n",
       "      <td>1.799346e+06</td>\n",
       "      <td>0.996000</td>\n",
       "      <td>0.987000</td>\n",
       "      <td>0.999000</td>\n",
       "      <td>0.997000</td>\n",
       "      <td>11.000000</td>\n",
       "      <td>0.986000</td>\n",
       "      <td>1.585000</td>\n",
       "      <td>1.000000</td>\n",
       "      <td>0.941000</td>\n",
       "      <td>242.318000</td>\n",
       "      <td>5.000000</td>\n",
       "      <td>0.984000</td>\n",
       "    </tr>\n",
       "  </tbody>\n",
       "</table>\n",
       "</div>"
      ],
      "text/plain": [
       "       song_popularity  song_duration_ms  acousticness  danceability  \\\n",
       "count     18835.000000      1.883500e+04  18835.000000  18835.000000   \n",
       "mean         52.991877      2.182116e+05      0.258539      0.633348   \n",
       "std          21.905654      5.988754e+04      0.288719      0.156723   \n",
       "min           0.000000      1.200000e+04      0.000001      0.000000   \n",
       "25%          40.000000      1.843395e+05      0.024100      0.533000   \n",
       "50%          56.000000      2.113060e+05      0.132000      0.645000   \n",
       "75%          69.000000      2.428440e+05      0.424000      0.748000   \n",
       "max         100.000000      1.799346e+06      0.996000      0.987000   \n",
       "\n",
       "             energy  instrumentalness           key      liveness  \\\n",
       "count  18835.000000      18835.000000  18835.000000  18835.000000   \n",
       "mean       0.644995          0.078008      5.289196      0.179650   \n",
       "std        0.214101          0.221591      3.614595      0.143984   \n",
       "min        0.001070          0.000000      0.000000      0.010900   \n",
       "25%        0.510000          0.000000      2.000000      0.092900   \n",
       "50%        0.674000          0.000011      5.000000      0.122000   \n",
       "75%        0.815000          0.002570      8.000000      0.221000   \n",
       "max        0.999000          0.997000     11.000000      0.986000   \n",
       "\n",
       "           loudness    audio_mode   speechiness         tempo  time_signature  \\\n",
       "count  18835.000000  18835.000000  18835.000000  18835.000000    18835.000000   \n",
       "mean      -7.447435      0.628139      0.102099    121.073154        3.959119   \n",
       "std        3.827831      0.483314      0.104378     28.714456        0.298533   \n",
       "min      -38.768000      0.000000      0.000000      0.000000        0.000000   \n",
       "25%       -9.044000      0.000000      0.037800     98.368000        4.000000   \n",
       "50%       -6.555000      1.000000      0.055500    120.013000        4.000000   \n",
       "75%       -4.908000      1.000000      0.119000    139.931000        4.000000   \n",
       "max        1.585000      1.000000      0.941000    242.318000        5.000000   \n",
       "\n",
       "       audio_valence  \n",
       "count   18835.000000  \n",
       "mean        0.527967  \n",
       "std         0.244632  \n",
       "min         0.000000  \n",
       "25%         0.335000  \n",
       "50%         0.527000  \n",
       "75%         0.725000  \n",
       "max         0.984000  "
      ]
     },
     "execution_count": 89,
     "metadata": {},
     "output_type": "execute_result"
    }
   ],
   "source": [
    "song_df.describe()"
   ]
  },
  {
   "cell_type": "code",
   "execution_count": 90,
   "metadata": {},
   "outputs": [
    {
     "name": "stdout",
     "output_type": "stream",
     "text": [
      "<class 'pandas.core.frame.DataFrame'>\n",
      "RangeIndex: 18835 entries, 0 to 18834\n",
      "Data columns (total 15 columns):\n",
      " #   Column            Non-Null Count  Dtype  \n",
      "---  ------            --------------  -----  \n",
      " 0   song_name         18835 non-null  object \n",
      " 1   song_popularity   18835 non-null  int64  \n",
      " 2   song_duration_ms  18835 non-null  int64  \n",
      " 3   acousticness      18835 non-null  float64\n",
      " 4   danceability      18835 non-null  float64\n",
      " 5   energy            18835 non-null  float64\n",
      " 6   instrumentalness  18835 non-null  float64\n",
      " 7   key               18835 non-null  int64  \n",
      " 8   liveness          18835 non-null  float64\n",
      " 9   loudness          18835 non-null  float64\n",
      " 10  audio_mode        18835 non-null  int64  \n",
      " 11  speechiness       18835 non-null  float64\n",
      " 12  tempo             18835 non-null  float64\n",
      " 13  time_signature    18835 non-null  int64  \n",
      " 14  audio_valence     18835 non-null  float64\n",
      "dtypes: float64(9), int64(5), object(1)\n",
      "memory usage: 2.2+ MB\n"
     ]
    }
   ],
   "source": [
    "song_df.info()"
   ]
  },
  {
   "cell_type": "code",
   "execution_count": 91,
   "metadata": {},
   "outputs": [
    {
     "data": {
      "text/plain": [
       "song_name           0\n",
       "song_popularity     0\n",
       "song_duration_ms    0\n",
       "acousticness        0\n",
       "danceability        0\n",
       "energy              0\n",
       "instrumentalness    0\n",
       "key                 0\n",
       "liveness            0\n",
       "loudness            0\n",
       "audio_mode          0\n",
       "speechiness         0\n",
       "tempo               0\n",
       "time_signature      0\n",
       "audio_valence       0\n",
       "dtype: int64"
      ]
     },
     "execution_count": 91,
     "metadata": {},
     "output_type": "execute_result"
    }
   ],
   "source": [
    "# Check missing values\n",
    "song_df.isna().sum()"
   ]
  },
  {
   "cell_type": "code",
   "execution_count": 92,
   "metadata": {},
   "outputs": [
    {
     "data": {
      "text/plain": [
       "song_name           13070\n",
       "song_popularity       101\n",
       "song_duration_ms    11771\n",
       "acousticness         3209\n",
       "danceability          849\n",
       "energy               1132\n",
       "instrumentalness     3925\n",
       "key                    12\n",
       "liveness             1425\n",
       "loudness             8416\n",
       "audio_mode              2\n",
       "speechiness          1224\n",
       "tempo               12112\n",
       "time_signature          5\n",
       "audio_valence        1246\n",
       "dtype: int64"
      ]
     },
     "execution_count": 92,
     "metadata": {},
     "output_type": "execute_result"
    }
   ],
   "source": [
    "# Check unique values\n",
    "song_df.nunique()"
   ]
  },
  {
   "cell_type": "code",
   "execution_count": 93,
   "metadata": {},
   "outputs": [
    {
     "data": {
      "text/plain": [
       "3909"
      ]
     },
     "execution_count": 93,
     "metadata": {},
     "output_type": "execute_result"
    }
   ],
   "source": [
    "# Check how many songs are duplicated\n",
    "song_df.duplicated().sum()"
   ]
  },
  {
   "cell_type": "code",
   "execution_count": 94,
   "metadata": {},
   "outputs": [
    {
     "data": {
      "text/html": [
       "<div>\n",
       "<style scoped>\n",
       "    .dataframe tbody tr th:only-of-type {\n",
       "        vertical-align: middle;\n",
       "    }\n",
       "\n",
       "    .dataframe tbody tr th {\n",
       "        vertical-align: top;\n",
       "    }\n",
       "\n",
       "    .dataframe thead th {\n",
       "        text-align: right;\n",
       "    }\n",
       "</style>\n",
       "<table border=\"1\" class=\"dataframe\">\n",
       "  <thead>\n",
       "    <tr style=\"text-align: right;\">\n",
       "      <th></th>\n",
       "      <th>song_name</th>\n",
       "      <th>song_popularity</th>\n",
       "      <th>song_duration_ms</th>\n",
       "      <th>acousticness</th>\n",
       "      <th>danceability</th>\n",
       "      <th>energy</th>\n",
       "      <th>instrumentalness</th>\n",
       "      <th>key</th>\n",
       "      <th>liveness</th>\n",
       "      <th>loudness</th>\n",
       "      <th>audio_mode</th>\n",
       "      <th>speechiness</th>\n",
       "      <th>tempo</th>\n",
       "      <th>time_signature</th>\n",
       "      <th>audio_valence</th>\n",
       "    </tr>\n",
       "  </thead>\n",
       "  <tbody>\n",
       "    <tr>\n",
       "      <th>min</th>\n",
       "      <td>\"40\" - Live Version 1983</td>\n",
       "      <td>0</td>\n",
       "      <td>12000</td>\n",
       "      <td>0.000001</td>\n",
       "      <td>0.000</td>\n",
       "      <td>0.00107</td>\n",
       "      <td>0.000</td>\n",
       "      <td>0</td>\n",
       "      <td>0.0109</td>\n",
       "      <td>-38.768</td>\n",
       "      <td>0</td>\n",
       "      <td>0.000</td>\n",
       "      <td>0.000</td>\n",
       "      <td>0</td>\n",
       "      <td>0.000</td>\n",
       "    </tr>\n",
       "    <tr>\n",
       "      <th>max</th>\n",
       "      <td>피 땀 눈물</td>\n",
       "      <td>100</td>\n",
       "      <td>1799346</td>\n",
       "      <td>0.996000</td>\n",
       "      <td>0.987</td>\n",
       "      <td>0.99900</td>\n",
       "      <td>0.997</td>\n",
       "      <td>11</td>\n",
       "      <td>0.9860</td>\n",
       "      <td>1.585</td>\n",
       "      <td>1</td>\n",
       "      <td>0.941</td>\n",
       "      <td>242.318</td>\n",
       "      <td>5</td>\n",
       "      <td>0.984</td>\n",
       "    </tr>\n",
       "  </tbody>\n",
       "</table>\n",
       "</div>"
      ],
      "text/plain": [
       "                    song_name  song_popularity  song_duration_ms  \\\n",
       "min  \"40\" - Live Version 1983                0             12000   \n",
       "max                    피 땀 눈물              100           1799346   \n",
       "\n",
       "     acousticness  danceability   energy  instrumentalness  key  liveness  \\\n",
       "min      0.000001         0.000  0.00107             0.000    0    0.0109   \n",
       "max      0.996000         0.987  0.99900             0.997   11    0.9860   \n",
       "\n",
       "     loudness  audio_mode  speechiness    tempo  time_signature  audio_valence  \n",
       "min   -38.768           0        0.000    0.000               0          0.000  \n",
       "max     1.585           1        0.941  242.318               5          0.984  "
      ]
     },
     "execution_count": 94,
     "metadata": {},
     "output_type": "execute_result"
    }
   ],
   "source": [
    "# Check Min and max values for each column\n",
    "def minMax(x):\n",
    "    return pd.Series(index=['min','max'],data=[x.min(),x.max()])\n",
    "\n",
    "song_df.apply(minMax)\n"
   ]
  },
  {
   "cell_type": "code",
   "execution_count": 95,
   "metadata": {},
   "outputs": [
    {
     "ename": "ValueError",
     "evalue": "Pandas data cast to numpy dtype of object. Check input data with np.asarray(data).",
     "output_type": "error",
     "traceback": [
      "\u001b[0;31m---------------------------------------------------------------------------\u001b[0m",
      "\u001b[0;31mValueError\u001b[0m                                Traceback (most recent call last)",
      "\u001b[0;32m<ipython-input-95-1286cf3fd8a9>\u001b[0m in \u001b[0;36m<module>\u001b[0;34m\u001b[0m\n\u001b[1;32m      5\u001b[0m \u001b[0mfeatures\u001b[0m \u001b[0;34m=\u001b[0m \u001b[0msong_df\u001b[0m\u001b[0;34m.\u001b[0m\u001b[0mdrop\u001b[0m\u001b[0;34m(\u001b[0m\u001b[0;34m[\u001b[0m\u001b[0;34m\"song_popularity\"\u001b[0m\u001b[0;34m]\u001b[0m\u001b[0;34m,\u001b[0m\u001b[0maxis\u001b[0m\u001b[0;34m=\u001b[0m\u001b[0;36m1\u001b[0m\u001b[0;34m)\u001b[0m\u001b[0;34m\u001b[0m\u001b[0;34m\u001b[0m\u001b[0m\n\u001b[1;32m      6\u001b[0m \u001b[0my\u001b[0m \u001b[0;34m=\u001b[0m \u001b[0msong_df\u001b[0m\u001b[0;34m[\u001b[0m\u001b[0;34m\"song_popularity\"\u001b[0m\u001b[0;34m]\u001b[0m\u001b[0;34m\u001b[0m\u001b[0;34m\u001b[0m\u001b[0m\n\u001b[0;32m----> 7\u001b[0;31m \u001b[0msm_model\u001b[0m \u001b[0;34m=\u001b[0m \u001b[0msm\u001b[0m\u001b[0;34m.\u001b[0m\u001b[0mOLS\u001b[0m\u001b[0;34m(\u001b[0m\u001b[0my\u001b[0m\u001b[0;34m,\u001b[0m\u001b[0mfeatures\u001b[0m\u001b[0;34m)\u001b[0m\u001b[0;34m.\u001b[0m\u001b[0mfit\u001b[0m\u001b[0;34m(\u001b[0m\u001b[0;34m)\u001b[0m\u001b[0;34m\u001b[0m\u001b[0;34m\u001b[0m\u001b[0m\n\u001b[0m\u001b[1;32m      8\u001b[0m \u001b[0mprint\u001b[0m\u001b[0;34m(\u001b[0m\u001b[0msm_model\u001b[0m\u001b[0;34m.\u001b[0m\u001b[0msummary\u001b[0m\u001b[0;34m(\u001b[0m\u001b[0;34m)\u001b[0m\u001b[0;34m)\u001b[0m\u001b[0;34m\u001b[0m\u001b[0;34m\u001b[0m\u001b[0m\n",
      "\u001b[0;32m~/opt/anaconda3/envs/daa2223/lib/python3.6/site-packages/statsmodels/regression/linear_model.py\u001b[0m in \u001b[0;36m__init__\u001b[0;34m(self, endog, exog, missing, hasconst, **kwargs)\u001b[0m\n\u001b[1;32m    871\u001b[0m                  **kwargs):\n\u001b[1;32m    872\u001b[0m         super(OLS, self).__init__(endog, exog, missing=missing,\n\u001b[0;32m--> 873\u001b[0;31m                                   hasconst=hasconst, **kwargs)\n\u001b[0m\u001b[1;32m    874\u001b[0m         \u001b[0;32mif\u001b[0m \u001b[0;34m\"weights\"\u001b[0m \u001b[0;32min\u001b[0m \u001b[0mself\u001b[0m\u001b[0;34m.\u001b[0m\u001b[0m_init_keys\u001b[0m\u001b[0;34m:\u001b[0m\u001b[0;34m\u001b[0m\u001b[0;34m\u001b[0m\u001b[0m\n\u001b[1;32m    875\u001b[0m             \u001b[0mself\u001b[0m\u001b[0;34m.\u001b[0m\u001b[0m_init_keys\u001b[0m\u001b[0;34m.\u001b[0m\u001b[0mremove\u001b[0m\u001b[0;34m(\u001b[0m\u001b[0;34m\"weights\"\u001b[0m\u001b[0;34m)\u001b[0m\u001b[0;34m\u001b[0m\u001b[0;34m\u001b[0m\u001b[0m\n",
      "\u001b[0;32m~/opt/anaconda3/envs/daa2223/lib/python3.6/site-packages/statsmodels/regression/linear_model.py\u001b[0m in \u001b[0;36m__init__\u001b[0;34m(self, endog, exog, weights, missing, hasconst, **kwargs)\u001b[0m\n\u001b[1;32m    702\u001b[0m             \u001b[0mweights\u001b[0m \u001b[0;34m=\u001b[0m \u001b[0mweights\u001b[0m\u001b[0;34m.\u001b[0m\u001b[0msqueeze\u001b[0m\u001b[0;34m(\u001b[0m\u001b[0;34m)\u001b[0m\u001b[0;34m\u001b[0m\u001b[0;34m\u001b[0m\u001b[0m\n\u001b[1;32m    703\u001b[0m         super(WLS, self).__init__(endog, exog, missing=missing,\n\u001b[0;32m--> 704\u001b[0;31m                                   weights=weights, hasconst=hasconst, **kwargs)\n\u001b[0m\u001b[1;32m    705\u001b[0m         \u001b[0mnobs\u001b[0m \u001b[0;34m=\u001b[0m \u001b[0mself\u001b[0m\u001b[0;34m.\u001b[0m\u001b[0mexog\u001b[0m\u001b[0;34m.\u001b[0m\u001b[0mshape\u001b[0m\u001b[0;34m[\u001b[0m\u001b[0;36m0\u001b[0m\u001b[0;34m]\u001b[0m\u001b[0;34m\u001b[0m\u001b[0;34m\u001b[0m\u001b[0m\n\u001b[1;32m    706\u001b[0m         \u001b[0mweights\u001b[0m \u001b[0;34m=\u001b[0m \u001b[0mself\u001b[0m\u001b[0;34m.\u001b[0m\u001b[0mweights\u001b[0m\u001b[0;34m\u001b[0m\u001b[0;34m\u001b[0m\u001b[0m\n",
      "\u001b[0;32m~/opt/anaconda3/envs/daa2223/lib/python3.6/site-packages/statsmodels/regression/linear_model.py\u001b[0m in \u001b[0;36m__init__\u001b[0;34m(self, endog, exog, **kwargs)\u001b[0m\n\u001b[1;32m    188\u001b[0m     \"\"\"\n\u001b[1;32m    189\u001b[0m     \u001b[0;32mdef\u001b[0m \u001b[0m__init__\u001b[0m\u001b[0;34m(\u001b[0m\u001b[0mself\u001b[0m\u001b[0;34m,\u001b[0m \u001b[0mendog\u001b[0m\u001b[0;34m,\u001b[0m \u001b[0mexog\u001b[0m\u001b[0;34m,\u001b[0m \u001b[0;34m**\u001b[0m\u001b[0mkwargs\u001b[0m\u001b[0;34m)\u001b[0m\u001b[0;34m:\u001b[0m\u001b[0;34m\u001b[0m\u001b[0;34m\u001b[0m\u001b[0m\n\u001b[0;32m--> 190\u001b[0;31m         \u001b[0msuper\u001b[0m\u001b[0;34m(\u001b[0m\u001b[0mRegressionModel\u001b[0m\u001b[0;34m,\u001b[0m \u001b[0mself\u001b[0m\u001b[0;34m)\u001b[0m\u001b[0;34m.\u001b[0m\u001b[0m__init__\u001b[0m\u001b[0;34m(\u001b[0m\u001b[0mendog\u001b[0m\u001b[0;34m,\u001b[0m \u001b[0mexog\u001b[0m\u001b[0;34m,\u001b[0m \u001b[0;34m**\u001b[0m\u001b[0mkwargs\u001b[0m\u001b[0;34m)\u001b[0m\u001b[0;34m\u001b[0m\u001b[0;34m\u001b[0m\u001b[0m\n\u001b[0m\u001b[1;32m    191\u001b[0m         \u001b[0mself\u001b[0m\u001b[0;34m.\u001b[0m\u001b[0m_data_attr\u001b[0m\u001b[0;34m.\u001b[0m\u001b[0mextend\u001b[0m\u001b[0;34m(\u001b[0m\u001b[0;34m[\u001b[0m\u001b[0;34m'pinv_wexog'\u001b[0m\u001b[0;34m,\u001b[0m \u001b[0;34m'weights'\u001b[0m\u001b[0;34m]\u001b[0m\u001b[0;34m)\u001b[0m\u001b[0;34m\u001b[0m\u001b[0;34m\u001b[0m\u001b[0m\n\u001b[1;32m    192\u001b[0m \u001b[0;34m\u001b[0m\u001b[0m\n",
      "\u001b[0;32m~/opt/anaconda3/envs/daa2223/lib/python3.6/site-packages/statsmodels/base/model.py\u001b[0m in \u001b[0;36m__init__\u001b[0;34m(self, endog, exog, **kwargs)\u001b[0m\n\u001b[1;32m    235\u001b[0m \u001b[0;34m\u001b[0m\u001b[0m\n\u001b[1;32m    236\u001b[0m     \u001b[0;32mdef\u001b[0m \u001b[0m__init__\u001b[0m\u001b[0;34m(\u001b[0m\u001b[0mself\u001b[0m\u001b[0;34m,\u001b[0m \u001b[0mendog\u001b[0m\u001b[0;34m,\u001b[0m \u001b[0mexog\u001b[0m\u001b[0;34m=\u001b[0m\u001b[0;32mNone\u001b[0m\u001b[0;34m,\u001b[0m \u001b[0;34m**\u001b[0m\u001b[0mkwargs\u001b[0m\u001b[0;34m)\u001b[0m\u001b[0;34m:\u001b[0m\u001b[0;34m\u001b[0m\u001b[0;34m\u001b[0m\u001b[0m\n\u001b[0;32m--> 237\u001b[0;31m         \u001b[0msuper\u001b[0m\u001b[0;34m(\u001b[0m\u001b[0mLikelihoodModel\u001b[0m\u001b[0;34m,\u001b[0m \u001b[0mself\u001b[0m\u001b[0;34m)\u001b[0m\u001b[0;34m.\u001b[0m\u001b[0m__init__\u001b[0m\u001b[0;34m(\u001b[0m\u001b[0mendog\u001b[0m\u001b[0;34m,\u001b[0m \u001b[0mexog\u001b[0m\u001b[0;34m,\u001b[0m \u001b[0;34m**\u001b[0m\u001b[0mkwargs\u001b[0m\u001b[0;34m)\u001b[0m\u001b[0;34m\u001b[0m\u001b[0;34m\u001b[0m\u001b[0m\n\u001b[0m\u001b[1;32m    238\u001b[0m         \u001b[0mself\u001b[0m\u001b[0;34m.\u001b[0m\u001b[0minitialize\u001b[0m\u001b[0;34m(\u001b[0m\u001b[0;34m)\u001b[0m\u001b[0;34m\u001b[0m\u001b[0;34m\u001b[0m\u001b[0m\n\u001b[1;32m    239\u001b[0m \u001b[0;34m\u001b[0m\u001b[0m\n",
      "\u001b[0;32m~/opt/anaconda3/envs/daa2223/lib/python3.6/site-packages/statsmodels/base/model.py\u001b[0m in \u001b[0;36m__init__\u001b[0;34m(self, endog, exog, **kwargs)\u001b[0m\n\u001b[1;32m     76\u001b[0m         \u001b[0mhasconst\u001b[0m \u001b[0;34m=\u001b[0m \u001b[0mkwargs\u001b[0m\u001b[0;34m.\u001b[0m\u001b[0mpop\u001b[0m\u001b[0;34m(\u001b[0m\u001b[0;34m'hasconst'\u001b[0m\u001b[0;34m,\u001b[0m \u001b[0;32mNone\u001b[0m\u001b[0;34m)\u001b[0m\u001b[0;34m\u001b[0m\u001b[0;34m\u001b[0m\u001b[0m\n\u001b[1;32m     77\u001b[0m         self.data = self._handle_data(endog, exog, missing, hasconst,\n\u001b[0;32m---> 78\u001b[0;31m                                       **kwargs)\n\u001b[0m\u001b[1;32m     79\u001b[0m         \u001b[0mself\u001b[0m\u001b[0;34m.\u001b[0m\u001b[0mk_constant\u001b[0m \u001b[0;34m=\u001b[0m \u001b[0mself\u001b[0m\u001b[0;34m.\u001b[0m\u001b[0mdata\u001b[0m\u001b[0;34m.\u001b[0m\u001b[0mk_constant\u001b[0m\u001b[0;34m\u001b[0m\u001b[0;34m\u001b[0m\u001b[0m\n\u001b[1;32m     80\u001b[0m         \u001b[0mself\u001b[0m\u001b[0;34m.\u001b[0m\u001b[0mexog\u001b[0m \u001b[0;34m=\u001b[0m \u001b[0mself\u001b[0m\u001b[0;34m.\u001b[0m\u001b[0mdata\u001b[0m\u001b[0;34m.\u001b[0m\u001b[0mexog\u001b[0m\u001b[0;34m\u001b[0m\u001b[0;34m\u001b[0m\u001b[0m\n",
      "\u001b[0;32m~/opt/anaconda3/envs/daa2223/lib/python3.6/site-packages/statsmodels/base/model.py\u001b[0m in \u001b[0;36m_handle_data\u001b[0;34m(self, endog, exog, missing, hasconst, **kwargs)\u001b[0m\n\u001b[1;32m     99\u001b[0m \u001b[0;34m\u001b[0m\u001b[0m\n\u001b[1;32m    100\u001b[0m     \u001b[0;32mdef\u001b[0m \u001b[0m_handle_data\u001b[0m\u001b[0;34m(\u001b[0m\u001b[0mself\u001b[0m\u001b[0;34m,\u001b[0m \u001b[0mendog\u001b[0m\u001b[0;34m,\u001b[0m \u001b[0mexog\u001b[0m\u001b[0;34m,\u001b[0m \u001b[0mmissing\u001b[0m\u001b[0;34m,\u001b[0m \u001b[0mhasconst\u001b[0m\u001b[0;34m,\u001b[0m \u001b[0;34m**\u001b[0m\u001b[0mkwargs\u001b[0m\u001b[0;34m)\u001b[0m\u001b[0;34m:\u001b[0m\u001b[0;34m\u001b[0m\u001b[0;34m\u001b[0m\u001b[0m\n\u001b[0;32m--> 101\u001b[0;31m         \u001b[0mdata\u001b[0m \u001b[0;34m=\u001b[0m \u001b[0mhandle_data\u001b[0m\u001b[0;34m(\u001b[0m\u001b[0mendog\u001b[0m\u001b[0;34m,\u001b[0m \u001b[0mexog\u001b[0m\u001b[0;34m,\u001b[0m \u001b[0mmissing\u001b[0m\u001b[0;34m,\u001b[0m \u001b[0mhasconst\u001b[0m\u001b[0;34m,\u001b[0m \u001b[0;34m**\u001b[0m\u001b[0mkwargs\u001b[0m\u001b[0;34m)\u001b[0m\u001b[0;34m\u001b[0m\u001b[0;34m\u001b[0m\u001b[0m\n\u001b[0m\u001b[1;32m    102\u001b[0m         \u001b[0;31m# kwargs arrays could have changed, easier to just attach here\u001b[0m\u001b[0;34m\u001b[0m\u001b[0;34m\u001b[0m\u001b[0;34m\u001b[0m\u001b[0m\n\u001b[1;32m    103\u001b[0m         \u001b[0;32mfor\u001b[0m \u001b[0mkey\u001b[0m \u001b[0;32min\u001b[0m \u001b[0mkwargs\u001b[0m\u001b[0;34m:\u001b[0m\u001b[0;34m\u001b[0m\u001b[0;34m\u001b[0m\u001b[0m\n",
      "\u001b[0;32m~/opt/anaconda3/envs/daa2223/lib/python3.6/site-packages/statsmodels/base/data.py\u001b[0m in \u001b[0;36mhandle_data\u001b[0;34m(endog, exog, missing, hasconst, **kwargs)\u001b[0m\n\u001b[1;32m    671\u001b[0m     \u001b[0mklass\u001b[0m \u001b[0;34m=\u001b[0m \u001b[0mhandle_data_class_factory\u001b[0m\u001b[0;34m(\u001b[0m\u001b[0mendog\u001b[0m\u001b[0;34m,\u001b[0m \u001b[0mexog\u001b[0m\u001b[0;34m)\u001b[0m\u001b[0;34m\u001b[0m\u001b[0;34m\u001b[0m\u001b[0m\n\u001b[1;32m    672\u001b[0m     return klass(endog, exog=exog, missing=missing, hasconst=hasconst,\n\u001b[0;32m--> 673\u001b[0;31m                  **kwargs)\n\u001b[0m",
      "\u001b[0;32m~/opt/anaconda3/envs/daa2223/lib/python3.6/site-packages/statsmodels/base/data.py\u001b[0m in \u001b[0;36m__init__\u001b[0;34m(self, endog, exog, missing, hasconst, **kwargs)\u001b[0m\n\u001b[1;32m     81\u001b[0m             \u001b[0mself\u001b[0m\u001b[0;34m.\u001b[0m\u001b[0morig_endog\u001b[0m \u001b[0;34m=\u001b[0m \u001b[0mendog\u001b[0m\u001b[0;34m\u001b[0m\u001b[0;34m\u001b[0m\u001b[0m\n\u001b[1;32m     82\u001b[0m             \u001b[0mself\u001b[0m\u001b[0;34m.\u001b[0m\u001b[0morig_exog\u001b[0m \u001b[0;34m=\u001b[0m \u001b[0mexog\u001b[0m\u001b[0;34m\u001b[0m\u001b[0;34m\u001b[0m\u001b[0m\n\u001b[0;32m---> 83\u001b[0;31m             \u001b[0mself\u001b[0m\u001b[0;34m.\u001b[0m\u001b[0mendog\u001b[0m\u001b[0;34m,\u001b[0m \u001b[0mself\u001b[0m\u001b[0;34m.\u001b[0m\u001b[0mexog\u001b[0m \u001b[0;34m=\u001b[0m \u001b[0mself\u001b[0m\u001b[0;34m.\u001b[0m\u001b[0m_convert_endog_exog\u001b[0m\u001b[0;34m(\u001b[0m\u001b[0mendog\u001b[0m\u001b[0;34m,\u001b[0m \u001b[0mexog\u001b[0m\u001b[0;34m)\u001b[0m\u001b[0;34m\u001b[0m\u001b[0;34m\u001b[0m\u001b[0m\n\u001b[0m\u001b[1;32m     84\u001b[0m \u001b[0;34m\u001b[0m\u001b[0m\n\u001b[1;32m     85\u001b[0m         \u001b[0mself\u001b[0m\u001b[0;34m.\u001b[0m\u001b[0mconst_idx\u001b[0m \u001b[0;34m=\u001b[0m \u001b[0;32mNone\u001b[0m\u001b[0;34m\u001b[0m\u001b[0;34m\u001b[0m\u001b[0m\n",
      "\u001b[0;32m~/opt/anaconda3/envs/daa2223/lib/python3.6/site-packages/statsmodels/base/data.py\u001b[0m in \u001b[0;36m_convert_endog_exog\u001b[0;34m(self, endog, exog)\u001b[0m\n\u001b[1;32m    506\u001b[0m         \u001b[0mexog\u001b[0m \u001b[0;34m=\u001b[0m \u001b[0mexog\u001b[0m \u001b[0;32mif\u001b[0m \u001b[0mexog\u001b[0m \u001b[0;32mis\u001b[0m \u001b[0;32mNone\u001b[0m \u001b[0;32melse\u001b[0m \u001b[0mnp\u001b[0m\u001b[0;34m.\u001b[0m\u001b[0masarray\u001b[0m\u001b[0;34m(\u001b[0m\u001b[0mexog\u001b[0m\u001b[0;34m)\u001b[0m\u001b[0;34m\u001b[0m\u001b[0;34m\u001b[0m\u001b[0m\n\u001b[1;32m    507\u001b[0m         \u001b[0;32mif\u001b[0m \u001b[0mendog\u001b[0m\u001b[0;34m.\u001b[0m\u001b[0mdtype\u001b[0m \u001b[0;34m==\u001b[0m \u001b[0mobject\u001b[0m \u001b[0;32mor\u001b[0m \u001b[0mexog\u001b[0m \u001b[0;32mis\u001b[0m \u001b[0;32mnot\u001b[0m \u001b[0;32mNone\u001b[0m \u001b[0;32mand\u001b[0m \u001b[0mexog\u001b[0m\u001b[0;34m.\u001b[0m\u001b[0mdtype\u001b[0m \u001b[0;34m==\u001b[0m \u001b[0mobject\u001b[0m\u001b[0;34m:\u001b[0m\u001b[0;34m\u001b[0m\u001b[0;34m\u001b[0m\u001b[0m\n\u001b[0;32m--> 508\u001b[0;31m             raise ValueError(\"Pandas data cast to numpy dtype of object. \"\n\u001b[0m\u001b[1;32m    509\u001b[0m                              \"Check input data with np.asarray(data).\")\n\u001b[1;32m    510\u001b[0m         \u001b[0;32mreturn\u001b[0m \u001b[0msuper\u001b[0m\u001b[0;34m(\u001b[0m\u001b[0mPandasData\u001b[0m\u001b[0;34m,\u001b[0m \u001b[0mself\u001b[0m\u001b[0;34m)\u001b[0m\u001b[0;34m.\u001b[0m\u001b[0m_convert_endog_exog\u001b[0m\u001b[0;34m(\u001b[0m\u001b[0mendog\u001b[0m\u001b[0;34m,\u001b[0m \u001b[0mexog\u001b[0m\u001b[0;34m)\u001b[0m\u001b[0;34m\u001b[0m\u001b[0;34m\u001b[0m\u001b[0m\n",
      "\u001b[0;31mValueError\u001b[0m: Pandas data cast to numpy dtype of object. Check input data with np.asarray(data)."
     ]
    }
   ],
   "source": [
    "### CORRIGIR !!!!!!\n",
    "# Avaliação do desempenho do modelo com regressão linear múltipla utilizando a classe OLS \n",
    "import statsmodels.api as sm\n",
    "\n",
    "features = song_df.drop([\"song_popularity\"],axis=1) \n",
    "y = song_df[\"song_popularity\"]\n",
    "sm_model = sm.OLS(y,features).fit()\n",
    "print(sm_model.summary())"
   ]
  },
  {
   "cell_type": "code",
   "execution_count": null,
   "metadata": {},
   "outputs": [
    {
     "name": "stdout",
     "output_type": "stream",
     "text": [
      "                        song_name  song_popularity  song_duration_ms  \\\n",
      "0      Boulevard of Broken Dreams               73            262333   \n",
      "1                      In The End               66            216933   \n",
      "2               Seven Nation Army               76            231733   \n",
      "3                      By The Way               74            216933   \n",
      "4               How You Remind Me               56            223826   \n",
      "...                           ...              ...               ...   \n",
      "18830              Let It Breathe               60            159645   \n",
      "18831                     Answers               60            205666   \n",
      "18832      Sudden Love (Acoustic)               23            182211   \n",
      "18833           Gentle on My Mind               55            352280   \n",
      "18834                    Up to Me               60            193533   \n",
      "\n",
      "       acousticness  danceability  energy  instrumentalness  key  liveness  \\\n",
      "0          0.005520         0.496   0.682          0.000029    8    0.0589   \n",
      "1          0.010300         0.542   0.853          0.000000    3    0.1080   \n",
      "2          0.008170         0.737   0.463          0.447000    0    0.2550   \n",
      "3          0.026400         0.451   0.970          0.003550    0    0.1020   \n",
      "4          0.000954         0.447   0.766          0.000000   10    0.1130   \n",
      "...             ...           ...     ...               ...  ...       ...   \n",
      "18830      0.893000         0.500   0.151          0.000065   11    0.1110   \n",
      "18831      0.765000         0.495   0.161          0.000001   11    0.1050   \n",
      "18832      0.847000         0.719   0.325          0.000000    0    0.1250   \n",
      "18833      0.945000         0.488   0.326          0.015700    3    0.1190   \n",
      "18834      0.911000         0.640   0.381          0.000254    4    0.1040   \n",
      "\n",
      "       loudness  audio_mode  speechiness    tempo  time_signature  \\\n",
      "0        -4.095           1       0.0294  167.060               4   \n",
      "1        -6.407           0       0.0498  105.256               4   \n",
      "2        -7.828           1       0.0792  123.881               4   \n",
      "3        -4.938           1       0.1070  122.444               4   \n",
      "4        -5.065           1       0.0313  172.011               4   \n",
      "...         ...         ...          ...      ...             ...   \n",
      "18830   -16.107           1       0.0348  113.969               4   \n",
      "18831   -14.078           0       0.0301   94.286               4   \n",
      "18832   -12.222           1       0.0355  130.534               4   \n",
      "18833   -12.020           1       0.0328  106.063               4   \n",
      "18834   -11.790           1       0.0302   91.490               4   \n",
      "\n",
      "       audio_valence song_popularity_bins  \n",
      "0              0.474                 high  \n",
      "1              0.370                 high  \n",
      "2              0.324            very high  \n",
      "3              0.198                 high  \n",
      "4              0.574                 high  \n",
      "...              ...                  ...  \n",
      "18830          0.300                 high  \n",
      "18831          0.265                 high  \n",
      "18832          0.286                  low  \n",
      "18833          0.323                 high  \n",
      "18834          0.581                 high  \n",
      "\n",
      "[18835 rows x 16 columns]\n"
     ]
    }
   ],
   "source": [
    "# Binning para verificação do balanceamento dos dados\n",
    "\n",
    "# Define the bin edges and labels\n",
    "bin_edges = [0, 25, 50, 75, 100]\n",
    "bin_labels = ['low', 'medium', 'high','very high']\n",
    "\n",
    "# Create bins using the \"cut\" function and assign labels\n",
    "song_df['song_popularity_bins'] = pd.cut(song_df['song_popularity'], bin_edges, labels=bin_labels)\n",
    "\n",
    "# Print the resulting dataframe\n",
    "print(song_df)\n"
   ]
  },
  {
   "cell_type": "code",
   "execution_count": null,
   "metadata": {},
   "outputs": [
    {
     "name": "stdout",
     "output_type": "stream",
     "text": [
      "high         6880\n",
      "medium       4870\n",
      "low          1956\n",
      "very high     981\n",
      "Name: song_popularity_bins, dtype: int64\n"
     ]
    }
   ],
   "source": [
    "# Count the number of observations in each bin\n",
    "bin_counts = song_df['song_popularity_bins'].value_counts()\n",
    "\n",
    "# Print the bin counts\n",
    "print(bin_counts)\n"
   ]
  },
  {
   "cell_type": "code",
   "execution_count": null,
   "metadata": {},
   "outputs": [
    {
     "data": {
      "image/png": "[encoded data removed]",
      "text/plain": [
       "<Figure size 432x288 with 1 Axes>"
      ]
     },
     "metadata": {},
     "output_type": "display_data"
    }
   ],
   "source": [
    "# Create a countplot of the binned variable\n",
    "sns.countplot(x=\"song_popularity_bins\", data=song_df)\n",
    "\n",
    "# Add labels and show the plot\n",
    "plt.xlabel('Popularity')\n",
    "plt.ylabel('Frequency')\n",
    "plt.show()\n"
   ]
  },
  {
   "cell_type": "code",
   "execution_count": null,
   "metadata": {},
   "outputs": [
    {
     "data": {
      "text/plain": [
       "<seaborn.axisgrid.FacetGrid at 0x7f9e68430a58>"
      ]
     },
     "execution_count": 33,
     "metadata": {},
     "output_type": "execute_result"
    },
    {
     "data": {
      "image/png": "[encoded data removed]",
      "text/plain": [
       "<Figure size 360x360 with 1 Axes>"
      ]
     },
     "metadata": {},
     "output_type": "display_data"
    }
   ],
   "source": [
    "# Create a distplot of the binned variable\n",
    "sns.displot(song_df, x='song_popularity', bins=5, kde=True, stat='count')\n"
   ]
  },
  {
   "attachments": {},
   "cell_type": "markdown",
   "metadata": {},
   "source": [
    "### Visualização dos dados"
   ]
  },
  {
   "cell_type": "code",
   "execution_count": null,
   "metadata": {},
   "outputs": [
    {
     "data": {
      "text/plain": [
       "<AxesSubplot:>"
      ]
     },
     "execution_count": 24,
     "metadata": {},
     "output_type": "execute_result"
    },
    {
     "data": {
      "image/png": "[encoded data removed]",
      "text/plain": [
       "<Figure size 1440x720 with 1 Axes>"
      ]
     },
     "metadata": {},
     "output_type": "display_data"
    }
   ],
   "source": [
    "# Outliers boxplot\n",
    "sns.set_theme(palette=\"pastel\")\n",
    "plt.subplots(figsize=(20,10))\n",
    "sns.boxplot(data=song_df)"
   ]
  },
  {
   "cell_type": "code",
   "execution_count": null,
   "metadata": {},
   "outputs": [
    {
     "data": {
      "text/plain": [
       "<AxesSubplot:>"
      ]
     },
     "execution_count": 25,
     "metadata": {},
     "output_type": "execute_result"
    },
    {
     "data": {
      "image/png": "[encoded data removed]",
      "text/plain": [
       "<Figure size 432x288 with 1 Axes>"
      ]
     },
     "metadata": {},
     "output_type": "display_data"
    }
   ],
   "source": [
    "# Outliers em minutos\n",
    "sns.boxplot(data=song_df['song_duration_ms'].apply(lambda x: x/60000))"
   ]
  },
  {
   "cell_type": "code",
   "execution_count": null,
   "metadata": {},
   "outputs": [
    {
     "data": {
      "text/plain": [
       "<AxesSubplot:>"
      ]
     },
     "execution_count": 45,
     "metadata": {},
     "output_type": "execute_result"
    },
    {
     "data": {
      "image/png": "[encoded data removed]",
      "text/plain": [
       "<Figure size 1008x576 with 2 Axes>"
      ]
     },
     "metadata": {},
     "output_type": "display_data"
    }
   ],
   "source": [
    "# Matriz de Correlação\n",
    "plt.subplots(figsize=(14,8))\n",
    "sns.heatmap(song_df.corr(), annot = True, cmap='coolwarm')"
   ]
  },
  {
   "attachments": {},
   "cell_type": "markdown",
   "metadata": {},
   "source": [
    "---\n",
    "# Preparação dos Dados\n"
   ]
  },
  {
   "attachments": {},
   "cell_type": "markdown",
   "metadata": {},
   "source": [
    "### Remove duplicates and song name"
   ]
  },
  {
   "cell_type": "code",
   "execution_count": 102,
   "metadata": {},
   "outputs": [],
   "source": [
    "# Remove duplicates\n",
    "song_df = song_df.drop_duplicates()\n",
    "\n",
    "# Remove music name (unique id)\n",
    "song_df = song_df.drop(['song_name'], axis=1)\n"
   ]
  },
  {
   "cell_type": "markdown",
   "metadata": {},
   "source": [
    "### One Hot Encoding"
   ]
  },
  {
   "cell_type": "code",
   "execution_count": null,
   "metadata": {},
   "outputs": [
    {
     "data": {
      "text/html": [
       "<div>\n",
       "<style scoped>\n",
       "    .dataframe tbody tr th:only-of-type {\n",
       "        vertical-align: middle;\n",
       "    }\n",
       "\n",
       "    .dataframe tbody tr th {\n",
       "        vertical-align: top;\n",
       "    }\n",
       "\n",
       "    .dataframe thead th {\n",
       "        text-align: right;\n",
       "    }\n",
       "</style>\n",
       "<table border=\"1\" class=\"dataframe\">\n",
       "  <thead>\n",
       "    <tr style=\"text-align: right;\">\n",
       "      <th></th>\n",
       "      <th>song_name</th>\n",
       "      <th>song_popularity</th>\n",
       "      <th>song_duration_ms</th>\n",
       "      <th>acousticness</th>\n",
       "      <th>danceability</th>\n",
       "      <th>energy</th>\n",
       "      <th>instrumentalness</th>\n",
       "      <th>liveness</th>\n",
       "      <th>loudness</th>\n",
       "      <th>audio_mode</th>\n",
       "      <th>...</th>\n",
       "      <th>key_7</th>\n",
       "      <th>key_8</th>\n",
       "      <th>key_9</th>\n",
       "      <th>key_10</th>\n",
       "      <th>key_11</th>\n",
       "      <th>time_signature_0</th>\n",
       "      <th>time_signature_1</th>\n",
       "      <th>time_signature_3</th>\n",
       "      <th>time_signature_4</th>\n",
       "      <th>time_signature_5</th>\n",
       "    </tr>\n",
       "  </thead>\n",
       "  <tbody>\n",
       "    <tr>\n",
       "      <th>0</th>\n",
       "      <td>Boulevard of Broken Dreams</td>\n",
       "      <td>73</td>\n",
       "      <td>262333</td>\n",
       "      <td>0.005520</td>\n",
       "      <td>0.496</td>\n",
       "      <td>0.682</td>\n",
       "      <td>0.000029</td>\n",
       "      <td>0.0589</td>\n",
       "      <td>-4.095</td>\n",
       "      <td>1</td>\n",
       "      <td>...</td>\n",
       "      <td>0</td>\n",
       "      <td>1</td>\n",
       "      <td>0</td>\n",
       "      <td>0</td>\n",
       "      <td>0</td>\n",
       "      <td>0</td>\n",
       "      <td>0</td>\n",
       "      <td>0</td>\n",
       "      <td>1</td>\n",
       "      <td>0</td>\n",
       "    </tr>\n",
       "    <tr>\n",
       "      <th>1</th>\n",
       "      <td>In The End</td>\n",
       "      <td>66</td>\n",
       "      <td>216933</td>\n",
       "      <td>0.010300</td>\n",
       "      <td>0.542</td>\n",
       "      <td>0.853</td>\n",
       "      <td>0.000000</td>\n",
       "      <td>0.1080</td>\n",
       "      <td>-6.407</td>\n",
       "      <td>0</td>\n",
       "      <td>...</td>\n",
       "      <td>0</td>\n",
       "      <td>0</td>\n",
       "      <td>0</td>\n",
       "      <td>0</td>\n",
       "      <td>0</td>\n",
       "      <td>0</td>\n",
       "      <td>0</td>\n",
       "      <td>0</td>\n",
       "      <td>1</td>\n",
       "      <td>0</td>\n",
       "    </tr>\n",
       "    <tr>\n",
       "      <th>2</th>\n",
       "      <td>Seven Nation Army</td>\n",
       "      <td>76</td>\n",
       "      <td>231733</td>\n",
       "      <td>0.008170</td>\n",
       "      <td>0.737</td>\n",
       "      <td>0.463</td>\n",
       "      <td>0.447000</td>\n",
       "      <td>0.2550</td>\n",
       "      <td>-7.828</td>\n",
       "      <td>1</td>\n",
       "      <td>...</td>\n",
       "      <td>0</td>\n",
       "      <td>0</td>\n",
       "      <td>0</td>\n",
       "      <td>0</td>\n",
       "      <td>0</td>\n",
       "      <td>0</td>\n",
       "      <td>0</td>\n",
       "      <td>0</td>\n",
       "      <td>1</td>\n",
       "      <td>0</td>\n",
       "    </tr>\n",
       "    <tr>\n",
       "      <th>3</th>\n",
       "      <td>By The Way</td>\n",
       "      <td>74</td>\n",
       "      <td>216933</td>\n",
       "      <td>0.026400</td>\n",
       "      <td>0.451</td>\n",
       "      <td>0.970</td>\n",
       "      <td>0.003550</td>\n",
       "      <td>0.1020</td>\n",
       "      <td>-4.938</td>\n",
       "      <td>1</td>\n",
       "      <td>...</td>\n",
       "      <td>0</td>\n",
       "      <td>0</td>\n",
       "      <td>0</td>\n",
       "      <td>0</td>\n",
       "      <td>0</td>\n",
       "      <td>0</td>\n",
       "      <td>0</td>\n",
       "      <td>0</td>\n",
       "      <td>1</td>\n",
       "      <td>0</td>\n",
       "    </tr>\n",
       "    <tr>\n",
       "      <th>4</th>\n",
       "      <td>How You Remind Me</td>\n",
       "      <td>56</td>\n",
       "      <td>223826</td>\n",
       "      <td>0.000954</td>\n",
       "      <td>0.447</td>\n",
       "      <td>0.766</td>\n",
       "      <td>0.000000</td>\n",
       "      <td>0.1130</td>\n",
       "      <td>-5.065</td>\n",
       "      <td>1</td>\n",
       "      <td>...</td>\n",
       "      <td>0</td>\n",
       "      <td>0</td>\n",
       "      <td>0</td>\n",
       "      <td>1</td>\n",
       "      <td>0</td>\n",
       "      <td>0</td>\n",
       "      <td>0</td>\n",
       "      <td>0</td>\n",
       "      <td>1</td>\n",
       "      <td>0</td>\n",
       "    </tr>\n",
       "  </tbody>\n",
       "</table>\n",
       "<p>5 rows × 30 columns</p>\n",
       "</div>"
      ],
      "text/plain": [
       "                    song_name  song_popularity  song_duration_ms  \\\n",
       "0  Boulevard of Broken Dreams               73            262333   \n",
       "1                  In The End               66            216933   \n",
       "2           Seven Nation Army               76            231733   \n",
       "3                  By The Way               74            216933   \n",
       "4           How You Remind Me               56            223826   \n",
       "\n",
       "   acousticness  danceability  energy  instrumentalness  liveness  loudness  \\\n",
       "0      0.005520         0.496   0.682          0.000029    0.0589    -4.095   \n",
       "1      0.010300         0.542   0.853          0.000000    0.1080    -6.407   \n",
       "2      0.008170         0.737   0.463          0.447000    0.2550    -7.828   \n",
       "3      0.026400         0.451   0.970          0.003550    0.1020    -4.938   \n",
       "4      0.000954         0.447   0.766          0.000000    0.1130    -5.065   \n",
       "\n",
       "   audio_mode  ...  key_7  key_8  key_9  key_10  key_11  time_signature_0  \\\n",
       "0           1  ...      0      1      0       0       0                 0   \n",
       "1           0  ...      0      0      0       0       0                 0   \n",
       "2           1  ...      0      0      0       0       0                 0   \n",
       "3           1  ...      0      0      0       0       0                 0   \n",
       "4           1  ...      0      0      0       1       0                 0   \n",
       "\n",
       "   time_signature_1  time_signature_3  time_signature_4  time_signature_5  \n",
       "0                 0                 0                 1                 0  \n",
       "1                 0                 0                 1                 0  \n",
       "2                 0                 0                 1                 0  \n",
       "3                 0                 0                 1                 0  \n",
       "4                 0                 0                 1                 0  \n",
       "\n",
       "[5 rows x 30 columns]"
      ]
     },
     "execution_count": 13,
     "metadata": {},
     "output_type": "execute_result"
    }
   ],
   "source": [
    "# One Hot Encoding\n",
    "for i in song_df.columns:\n",
    "    if song_df[i].nunique() == 2:\n",
    "        song_df[i] = pd.get_dummies(song_df[i], drop_first=True, prefix=i)\n",
    "    elif song_df[i].nunique() > 2 and song_df[i].nunique() < 16:\n",
    "        song_df = pd.concat([song_df, pd.get_dummies(song_df[i], prefix=i)], axis=1)\n",
    "        song_df = song_df.drop([i], axis=1)\n",
    "\n",
    "song_df.head()"
   ]
  },
  {
   "cell_type": "markdown",
   "metadata": {},
   "source": [
    "### Remove Outliers"
   ]
  },
  {
   "cell_type": "code",
   "execution_count": null,
   "metadata": {},
   "outputs": [],
   "source": [
    "# Remove outliers\n",
    "for i in song_df.columns:\n",
    "    if(song_df[i].nunique() >= 16): #Não categoricos\n",
    "        mean=song_df[i].mean()\n",
    "\n",
    "        skewness=song_df[i].skew()\n",
    "\n",
    "        if(skewness > 0.5 or skewness < -0.5): #Distriuido normalmente\n",
    "            upper=song_df[i].mean() + 3*song_df[i].std()\n",
    "            lower=song_df[i].mean() - 3*song_df[i].std()\n",
    "\n",
    "            song_df = song_df[(song_df[i] <= upper) & (song_df[i] >= lower)]\n",
    "            song_df = song_df.reset_index(drop=True) \n",
    "        else: #Distribuido não normalmente (Skewed)\n",
    "            q1 = song_df[i].quantile(0.25)\n",
    "            q3 = song_df[i].quantile(0.75)\n",
    "            iqr = q3 - q1\n",
    "            upper = q3 + 1.5*iqr\n",
    "            lower = q1 - 1.5*iqr\n",
    "\n",
    "            song_df = song_df[(song_df[i] <= upper) & (song_df[i] >= lower)]\n",
    "            song_df = song_df.reset_index(drop=True) "
   ]
  },
  {
   "cell_type": "markdown",
   "metadata": {},
   "source": [
    "### Normalization"
   ]
  },
  {
   "cell_type": "code",
   "execution_count": null,
   "metadata": {},
   "outputs": [],
   "source": [
    "# Data normalization\n",
    "for i in song_df.columns:\n",
    "        max_value = song_df[i].max()\n",
    "        min_value = song_df[i].min()\n",
    "        song_df[i] = (song_df[i] - min_value) / (max_value - min_value)\n",
    "\n",
    "song_df.describe()"
   ]
  },
  {
   "attachments": {},
   "cell_type": "markdown",
   "metadata": {},
   "source": [
    "---\n",
    "## Balancing Data - StratifiedShuffleSplit\n"
   ]
  },
  {
   "cell_type": "code",
   "execution_count": null,
   "metadata": {},
   "outputs": [
    {
     "name": "stdout",
     "output_type": "stream",
     "text": [
      "       song_popularity  song_duration_ms  acousticness  danceability  energy  \\\n",
      "17011               44            302560       0.04270         0.522   0.833   \n",
      "18100               32            246466       0.19100         0.756   0.770   \n",
      "11865               55            173375       0.02780         0.475   0.739   \n",
      "9777                46            160746       0.34400         0.506   0.655   \n",
      "13285               18            287120       0.99300         0.603   0.224   \n",
      "...                ...               ...           ...           ...     ...   \n",
      "10360               64            213060       0.33700         0.655   0.811   \n",
      "7033                48            230000       0.14900         0.720   0.844   \n",
      "17727               42            173141       0.54900         0.571   0.708   \n",
      "16455               60            211237       0.03120         0.602   0.547   \n",
      "7135                18            281666       0.00913         0.628   0.805   \n",
      "\n",
      "       instrumentalness  key  liveness  loudness  audio_mode  speechiness  \\\n",
      "17011          0.004540    1    0.6050    -8.688           1       0.0401   \n",
      "18100          0.000000    1    0.1780    -3.502           1       0.0343   \n",
      "11865          0.000000    0    0.0827    -7.411           1       0.4830   \n",
      "9777           0.000002    9    0.1320    -5.793           0       0.0324   \n",
      "13285          0.032300    4    0.1070   -10.097           0       0.0337   \n",
      "...                 ...  ...       ...       ...         ...          ...   \n",
      "10360          0.000000    0    0.0930    -4.647           1       0.0322   \n",
      "7033           0.000000    3    0.1260    -4.518           0       0.1540   \n",
      "17727          0.000000    5    0.3410    -6.894           0       0.3290   \n",
      "16455          0.000001    8    0.1090    -7.294           1       0.0535   \n",
      "7135           0.000000   10    0.2520    -5.908           0       0.3240   \n",
      "\n",
      "         tempo  time_signature  audio_valence song_popularity_bins  \n",
      "17011  137.127               4          0.558         b\"b'medium'\"  \n",
      "18100  119.961               4          0.730         b\"b'medium'\"  \n",
      "11865   92.086               5          0.327           b\"b'high'\"  \n",
      "9777    74.350               4          0.645         b\"b'medium'\"  \n",
      "13285   87.748               4          0.385            b\"b'low'\"  \n",
      "...        ...             ...            ...                  ...  \n",
      "10360  153.968               4          0.737           b\"b'high'\"  \n",
      "7033   101.985               4          0.939         b\"b'medium'\"  \n",
      "17727   72.164               4          0.575         b\"b'medium'\"  \n",
      "16455   99.847               4          0.201           b\"b'high'\"  \n",
      "7135   158.427               4          0.379            b\"b'low'\"  \n",
      "\n",
      "[10449 rows x 15 columns]\n"
     ]
    }
   ],
   "source": [
    "# Stratified Sampling Approach (Downsample)\n",
    "from sklearn.model_selection import StratifiedShuffleSplit\n",
    "\n",
    "# Define the target variable\n",
    "y = song_df['song_popularity_bins']\n",
    "\n",
    "# Perform stratified sampling\n",
    "sss = StratifiedShuffleSplit(n_splits=1, test_size=0.7)\n",
    "for train_index, test_index in sss.split(song_df, y):\n",
    "    downsampled_df = song_df.iloc[test_index]\n",
    "\n",
    "# Print the resulting dataframe\n",
    "print(downsampled_df)\n"
   ]
  },
  {
   "cell_type": "code",
   "execution_count": null,
   "metadata": {},
   "outputs": [
    {
     "data": {
      "text/plain": [
       "<AxesSubplot:xlabel='song_popularity', ylabel='Density'>"
      ]
     },
     "execution_count": 67,
     "metadata": {},
     "output_type": "execute_result"
    },
    {
     "data": {
      "image/png": "[encoded data removed]",
      "text/plain": [
       "<Figure size 432x288 with 1 Axes>"
      ]
     },
     "metadata": {
      "needs_background": "light"
     },
     "output_type": "display_data"
    }
   ],
   "source": [
    "# Distribution plot\n",
    "sns.kdeplot(song_df['song_popularity'], label = \"Original\")\n",
    "sns.kdeplot(downsampled_df['song_popularity'], label = \"Modified\")"
   ]
  },
  {
   "cell_type": "code",
   "execution_count": null,
   "metadata": {},
   "outputs": [
    {
     "name": "stderr",
     "output_type": "stream",
     "text": [
      "/Users/teresafortes/opt/anaconda3/envs/daa2223/lib/python3.6/site-packages/seaborn/distributions.py:2619: FutureWarning: `distplot` is a deprecated function and will be removed in a future version. Please adapt your code to use either `displot` (a figure-level function with similar flexibility) or `histplot` (an axes-level function for histograms).\n",
      "  warnings.warn(msg, FutureWarning)\n"
     ]
    },
    {
     "data": {
      "text/plain": [
       "<AxesSubplot:xlabel='song_popularity', ylabel='Density'>"
      ]
     },
     "execution_count": 69,
     "metadata": {},
     "output_type": "execute_result"
    },
    {
     "data": {
      "image/png": "[encoded data removed]",
      "text/plain": [
       "<Figure size 432x288 with 1 Axes>"
      ]
     },
     "metadata": {
      "needs_background": "light"
     },
     "output_type": "display_data"
    }
   ],
   "source": [
    "sns.distplot(song_df.song_popularity)"
   ]
  },
  {
   "cell_type": "code",
   "execution_count": null,
   "metadata": {},
   "outputs": [
    {
     "name": "stderr",
     "output_type": "stream",
     "text": [
      "/Users/teresafortes/opt/anaconda3/envs/daa2223/lib/python3.6/site-packages/seaborn/distributions.py:2619: FutureWarning: `distplot` is a deprecated function and will be removed in a future version. Please adapt your code to use either `displot` (a figure-level function with similar flexibility) or `histplot` (an axes-level function for histograms).\n",
      "  warnings.warn(msg, FutureWarning)\n"
     ]
    },
    {
     "data": {
      "text/plain": [
       "<AxesSubplot:xlabel='song_popularity', ylabel='Density'>"
      ]
     },
     "execution_count": 68,
     "metadata": {},
     "output_type": "execute_result"
    },
    {
     "data": {
      "image/png": "[encoded data removed]",
      "text/plain": [
       "<Figure size 432x288 with 1 Axes>"
      ]
     },
     "metadata": {
      "needs_background": "light"
     },
     "output_type": "display_data"
    }
   ],
   "source": [
    "sns.distplot(downsampled_df.song_popularity)"
   ]
  },
  {
   "attachments": {},
   "cell_type": "markdown",
   "metadata": {},
   "source": [
    "---  \n",
    "# Supervised Learning - Regression models"
   ]
  },
  {
   "cell_type": "markdown",
   "metadata": {},
   "source": [
    "---\n",
    "## Multiple Linear Regression"
   ]
  },
  {
   "cell_type": "code",
   "execution_count": 109,
   "metadata": {},
   "outputs": [
    {
     "name": "stdout",
     "output_type": "stream",
     "text": [
      "Multiple Linear Regression R-squared: 0.02285572198630159\n"
     ]
    }
   ],
   "source": [
    "from sklearn import linear_model\n",
    "\n",
    "# Initialize model\n",
    "multi_reg_model =  linear_model.LinearRegression()\n",
    "\n",
    "# Predictors an target\n",
    "X = song_df.drop([\"song_popularity\"],axis=1) \n",
    "y = song_df[\"song_popularity\"]\n",
    "\n",
    "# Split data into train and test sets\n",
    "X_train,X_test,y_train,y_test=train_test_split(X,y,test_size=0.4,random_state=0)\n",
    "\n",
    "# Train the model using the song_df data\n",
    "multi_reg_model.fit(X_train,y_train)\n",
    "\n",
    "y_pred = multi_reg_model.predict(X_test)\n",
    "y_pred\n",
    "\n",
    "# Check trained model y-intercept\n",
    "#print(multi_reg_model.intercept_)\n",
    "\n",
    "# Check trained model coefficients\n",
    "#print(multi_reg_model.coef_)\n",
    "\n",
    "# Check R-squared\n",
    "print(\"Multiple Linear Regression R-squared:\",multi_reg_model.score(X,y))\n"
   ]
  },
  {
   "cell_type": "markdown",
   "metadata": {},
   "source": [
    "## Plot the Results"
   ]
  },
  {
   "cell_type": "code",
   "execution_count": 111,
   "metadata": {},
   "outputs": [
    {
     "name": "stdout",
     "output_type": "stream",
     "text": [
      "Accuracy of the model is 0.0245\n"
     ]
    }
   ],
   "source": [
    "from sklearn.metrics import r2_score\n",
    "\n",
    "accuracy=r2_score(y_test,y_pred)\n",
    "print(\"Accuracy of the model is %.4f\" %accuracy)"
   ]
  },
  {
   "cell_type": "code",
   "execution_count": 112,
   "metadata": {},
   "outputs": [
    {
     "data": {
      "image/png": "[encoded data removed]",
      "text/plain": [
       "<Figure size 432x288 with 1 Axes>"
      ]
     },
     "metadata": {
      "needs_background": "light"
     },
     "output_type": "display_data"
    }
   ],
   "source": [
    "plt.scatter(y_test,y_pred);\n",
    "plt.xlabel('Actual');\n",
    "plt.ylabel('Predicted');"
   ]
  },
  {
   "cell_type": "code",
   "execution_count": 113,
   "metadata": {},
   "outputs": [
    {
     "data": {
      "image/png": "[encoded data removed]",
      "text/plain": [
       "<Figure size 432x288 with 1 Axes>"
      ]
     },
     "metadata": {
      "needs_background": "light"
     },
     "output_type": "display_data"
    }
   ],
   "source": [
    "sns.regplot(x=y_test,y=y_pred,ci=None,color ='red');"
   ]
  },
  {
   "cell_type": "markdown",
   "metadata": {},
   "source": [
    "---\n",
    "## Artificial Neural Network"
   ]
  },
  {
   "cell_type": "code",
   "execution_count": null,
   "metadata": {},
   "outputs": [],
   "source": [
    "from keras.models import Sequential\n",
    "from keras.layers import Dense\n",
    "from tensorflow.python.keras.layers import Conv2D, MaxPooling2D, AvgPool2D, BatchNormalization\n",
    "from tensorflow.python.keras.layers import Activation, Dropout, Flatten, Dense\n",
    "from tensorflow.keras.optimizers import Adam\n",
    "\n",
    "target_ANN = ['song_popularity']\n",
    "predictors_ANN = ['song_duration_ms','acousticness','danceability','energy','instrumentalness','liveness','loudness','audio_mode','speechiness','key_7','key_8','key_9','key_10','key_11','time_signature_0','time_signature_1','time_signature_3','time_signature_4','time_signature_5']\n",
    "\n",
    "X_ann = song_df[predictors_ANN].values\n",
    "y_ann = song_df[target_ANN].values\n",
    "\n",
    "X_train_ANN, X_test_ANN, y_train_ANN, y_test_ANN = train_test_split(X_ann, y_ann, test_size=0.3, random_state=42)\n",
    "\n",
    "# create ANN model\n",
    "model_ann = Sequential()\n",
    "\n",
    "# Defining the Input layer and FIRST hidden layer, both are same!\n",
    "model_ann.add(Dense(units=5, input_dim=7, kernel_initializer='normal', activation='relu'))\n",
    "\n",
    "# Defining the Second layer of the model\n",
    "# after the first layer we don't have to specify input_dim as keras configure it automatically\n",
    "\n",
    "model_ann.add(Dense(units=5, kernel_initializer='normal', activation='tanh'))\n",
    "\n",
    "# The output neuron is a single fully connected node \n",
    "# Since we will be predicting a single number\n",
    "model_ann.add(Dense(units=1, kernel_initializer='normal'))\n",
    "\n",
    "# Compiling the model\n",
    "model_ann.compile(loss='mean_squared_error', optimizer='adam')\n",
    "\n",
    "# Fitting the ANN to the Training set\n",
    "model_ann.fit(X_train_ANN, y_train_ANN ,batch_size = 20, epochs = 30, verbose=1)"
   ]
  },
  {
   "cell_type": "markdown",
   "metadata": {},
   "source": [
    "---\n",
    "# Hyperparameter tuning of ANN\n",
    "## Grid Search\n",
    "### Finding best set of parameters using manual Grid Search"
   ]
  },
  {
   "cell_type": "code",
   "execution_count": null,
   "metadata": {},
   "outputs": [],
   "source": [
    "# Defining a function to find the best parameters for ANN\n",
    "def FunctionFindBestParams(X_train_ANN, y_train_ANN, X_test_ANN, y_test_ANN):\n",
    "    \n",
    "    # Defining the list of hyper parameters to try\n",
    "    batch_size_list=[5, 10, 15, 20]\n",
    "    epoch_list  =   [5, 10, 50, 100]\n",
    "    \n",
    "    SearchResultsData = pd.DataFrame(columns=['TrialNumber', 'Parameters', 'Accuracy'])\n",
    "    \n",
    "    # initializing the trials\n",
    "    TrialNumber=0\n",
    "    for batch_size_trial in batch_size_list:\n",
    "        for epochs_trial in epoch_list:\n",
    "            TrialNumber+=1\n",
    "            # create ANN model\n",
    "            model_ann = Sequential()\n",
    "            # Defining the first layer of the model\n",
    "            model_ann.add(Dense(units=5, input_dim=X_train_ANN.shape[1], kernel_initializer='normal', activation='relu'))\n",
    "\n",
    "            # Defining the Second layer of the model\n",
    "            model_ann.add(Dense(units=5, kernel_initializer='normal', activation='relu'))\n",
    "\n",
    "            # The output neuron is a single fully connected node \n",
    "            # Since we will be predicting a single number\n",
    "            model_ann.add(Dense(1, kernel_initializer='normal'))\n",
    "\n",
    "            # Compiling the model\n",
    "            model_ann.compile(loss='mean_squared_error', optimizer='adam')\n",
    "\n",
    "            # Fitting the ANN to the Training set\n",
    "            model_ann.fit(X_train_ANN, y_train_ANN ,batch_size = batch_size_trial, epochs = epochs_trial, verbose=0)\n",
    "\n",
    "            MAPE = np.mean(100 * (np.abs(y_test_ANN-model_ann.predict(X_test_ANN))/y_test_ANN))\n",
    "            \n",
    "            # printing the results of the current iteration\n",
    "            print(TrialNumber, 'Parameters:','batch_size:', batch_size_trial,'-', 'epochs:',epochs_trial, 'Accuracy:', 100-MAPE)\n",
    "            \n",
    "            SearchResultsData = SearchResultsData.append(pd.DataFrame(data=[[TrialNumber, str(batch_size_trial)+'-'+str(epochs_trial), 100-MAPE]],\n",
    "                                                                    columns=['TrialNumber', 'Parameters', 'Accuracy'] ))\n",
    "    return(SearchResultsData)\n",
    "\n",
    "######################################################\n",
    "# Calling the function\n",
    "ResultsData = FunctionFindBestParams(X_train_ANN, y_train_ANN, X_test_ANN, y_test_ANN)"
   ]
  },
  {
   "cell_type": "code",
   "execution_count": null,
   "metadata": {},
   "outputs": [],
   "source": [
    "# Plotting the parameter trial results\n",
    "ResultsData.plot(x='Parameters', y='Accuracy', figsize=(15,4), kind='line')"
   ]
  },
  {
   "cell_type": "markdown",
   "metadata": {},
   "source": [
    "## Training the ANN model with the best parameters"
   ]
  },
  {
   "cell_type": "code",
   "execution_count": null,
   "metadata": {},
   "outputs": [],
   "source": [
    "# Fitting the ANN to the Training set\n",
    "model_ann.fit(X_train_ANN, y_train_ANN ,batch_size = 15, epochs = 5, verbose=0)\n",
    "\n",
    "# Generating Predictions on testing data\n",
    "Predictions = model_ann.predict(X_test_ANN)\n",
    "\n",
    "# Scaling the predicted Price data back to original price scale\n",
    "Predictions = targetVarScalerFit.inverse_transform(Predictions)\n",
    "\n",
    "# Scaling the y_test Price data back to original price scale\n",
    "y_test_orig = targetVarScalerFit.inverse_transform(y_test_ANN)\n",
    "\n",
    "# Scaling the test data back to original scale\n",
    "Test_Data = predictorScalerFit.inverse_transform(X_test_ANN)\n",
    "\n",
    "TestingData = pd.DataFrame(data=Test_Data,columns=predictors_ANN)\n",
    "TestingData['song_popularity']=y_test_orig\n",
    "TestingData['Predicted_song_popularity']=Predictions\n",
    "TestingData.head()"
   ]
  },
  {
   "cell_type": "markdown",
   "metadata": {},
   "source": [
    "--- \n",
    "## Grid Search Cross-validation\n",
    "### Finding best hyperparameters using GridSearchCV "
   ]
  },
  {
   "cell_type": "code",
   "execution_count": null,
   "metadata": {},
   "outputs": [],
   "source": [
    "# Function to generate Deep ANN model \n",
    "def make_regression_ann(Optimizer_trial):\n",
    "    \n",
    "    model = Sequential()\n",
    "    model.add(Dense(units=5, input_dim=7, kernel_initializer='normal', activation='relu'))\n",
    "    model.add(Dense(units=5, kernel_initializer='normal', activation='relu'))\n",
    "    model.add(Dense(1, kernel_initializer='normal'))\n",
    "    model.compile(loss='mean_squared_error', optimizer=Optimizer_trial)\n",
    "    return model\n",
    "\n",
    "###########################################\n",
    "from sklearn.model_selection import GridSearchCV\n",
    "from keras.wrappers.scikit_learn import KerasRegressor\n",
    "\n",
    "# Listing all the parameters to try\n",
    "Parameter_Trials={'batch_size':[10,20,30],\n",
    "                    'epochs':[10,20],\n",
    "                    'Optimizer_trial':['adam', 'rmsprop']\n",
    "                }\n",
    "\n",
    "# Creating the regression ANN model\n",
    "RegModel = KerasRegressor(make_regression_ann, verbose=0)\n",
    "\n",
    "###########################################\n",
    "from sklearn.metrics import make_scorer\n",
    "\n",
    "# Defining a custom function to calculate accuracy\n",
    "def Accuracy_Score(orig,pred):\n",
    "    MAPE = np.mean(100 * (np.abs(orig-pred)/orig))\n",
    "    print('#'*50,'Accuracy:', 100-MAPE)\n",
    "    return(100-MAPE)\n",
    "\n",
    "custom_Scoring = make_scorer(Accuracy_Score, greater_is_better=True)\n",
    "\n",
    "#########################################\n",
    "# Creating the Grid search space\n",
    "# See different scoring methods by using sklearn.metrics.SCORERS.keys()\n",
    "grid_search = GridSearchCV(estimator=RegModel, \n",
    "                        param_grid=Parameter_Trials, \n",
    "                        scoring=custom_Scoring, \n",
    "                        cv=5)\n",
    "\n",
    "#########################################\n",
    "# Measuring how much time it took to find the best params\n",
    "import time\n",
    "StartTime = time.time()\n",
    "\n",
    "# Running Grid Search for different paramenters\n",
    "grid_search.fit(X,y, verbose=1)\n",
    "\n",
    "EndTime = time.time()\n",
    "print(\"########## Total Time Taken: \", round((EndTime-StartTime)/60), 'Minutes')\n",
    "\n",
    "print('### Printing Best parameters ###')\n",
    "grid_search.best_params_"
   ]
  },
  {
   "cell_type": "markdown",
   "metadata": {},
   "source": [
    "## Finding the accuracy of the model\n",
    "### Mean Absolute Percentage Error(MAPE)"
   ]
  },
  {
   "cell_type": "code",
   "execution_count": null,
   "metadata": {},
   "outputs": [],
   "source": [
    "# Computing the absolute percent error\n",
    "APE=100*(abs(TestingData['song_popularity']-TestingData['Predicted_song_popularity'])/TestingData['song_popularity'])\n",
    "TestingData['APE']=APE\n",
    "\n",
    "print('The Accuracy of ANN model is:', 100-np.mean(APE))\n",
    "TestingData.head()"
   ]
  },
  {
   "cell_type": "markdown",
   "metadata": {},
   "source": [
    "---\n",
    "## Decision Tree Regression"
   ]
  },
  {
   "cell_type": "code",
   "execution_count": null,
   "metadata": {},
   "outputs": [],
   "source": [
    "X_dt = song_df.drop([\"song_popularity\"],axis=1)\n",
    "y_dt = song_df[\"song_popularity\"]\n",
    "\n",
    "print(X_dt)\n",
    "print(y_dt)\n",
    "\n",
    "# Splitting the dataset into training and testing set (80/20)\n",
    "X_train_dt, X_test_dt, y_train_dt, y_test_dt = train_test_split(X_dt, y_dt, test_size = 0.2, random_state = 28)"
   ]
  },
  {
   "cell_type": "code",
   "execution_count": null,
   "metadata": {},
   "outputs": [],
   "source": [
    "#Import the regressor\n",
    "from sklearn.tree import DecisionTreeRegressor \n",
    "\n",
    "#Create a regressor object\n",
    "dt_regressor = DecisionTreeRegressor(random_state = 0) \n",
    "\n",
    "#Fit the regressor with X and Y data\n",
    "dt_regressor.fit(X_train_dt, y_train_dt)\n",
    "\n",
    "dt_predictions = dt_regressor.predict(X_dt)"
   ]
  },
  {
   "cell_type": "markdown",
   "metadata": {},
   "source": [
    "## Calculating the loss after training"
   ]
  },
  {
   "cell_type": "code",
   "execution_count": null,
   "metadata": {},
   "outputs": [],
   "source": [
    "# Predicting the target values of the test set\n",
    "y_pred_dt = dt_regressor.predict(X_test_dt)\n",
    "\n",
    "# RMSE (Root Mean Square Error)\n",
    "rmse = float(format(np.sqrt(mean_squared_error(y_test_dt, y_pred_dt)), '.3f'))\n",
    "print(\"\\nRMSE: \", rmse)"
   ]
  },
  {
   "cell_type": "markdown",
   "metadata": {},
   "source": [
    "## Visualising the results"
   ]
  },
  {
   "cell_type": "code",
   "execution_count": null,
   "metadata": {},
   "outputs": [],
   "source": [
    "# Plot the regression tree\n",
    "from sklearn.tree import plot_tree\n",
    "\n",
    "plt.figure(figsize=(20,16))\n",
    "plot_tree(dt_regressor, feature_names=X_dt.columns);"
   ]
  },
  {
   "cell_type": "markdown",
   "metadata": {},
   "source": [
    "---\n",
    "## Random Forest Regression"
   ]
  },
  {
   "cell_type": "code",
   "execution_count": null,
   "metadata": {},
   "outputs": [],
   "source": [
    "X_rf = X_dt = song_df.drop([\"song_popularity\"],axis=1)\n",
    "y_rf = song_df[\"song_popularity\"]"
   ]
  },
  {
   "cell_type": "code",
   "execution_count": null,
   "metadata": {},
   "outputs": [],
   "source": [
    "# Splitting the dataset into training and testing sets\n",
    "X_train_rf, X_test_rf, y_train_rf, y_test_rf = train_test_split(X_rf, y_rf, test_size = 0.2, random_state = 28)"
   ]
  },
  {
   "cell_type": "code",
   "execution_count": null,
   "metadata": {},
   "outputs": [],
   "source": [
    "#Import the regressor\n",
    "from sklearn.ensemble import RandomForestRegressor\n",
    "from sklearn.datasets import make_regression\n",
    "\n",
    "# Create regressor object\n",
    "rf_regressor = RandomForestRegressor(n_estimators = 10, random_state = 0)\n",
    "\n",
    "# Fit the Random Forest Regression to the dataset\n",
    "rf_regressor.fit(X_train_rf,y_train_rf)\n"
   ]
  },
  {
   "cell_type": "markdown",
   "metadata": {},
   "source": [
    "## Calculating the loss after training"
   ]
  },
  {
   "cell_type": "code",
   "execution_count": null,
   "metadata": {},
   "outputs": [],
   "source": [
    "\n",
    "# Predicting the target values of the test set\n",
    "y_pred_rf = rf_regressor.predict(X_test_rf)\n",
    "\n",
    "# RMSE (Root Mean Square Error)\n",
    "rmse = float(format(np.sqrt(mean_squared_error(y_test_rf, y_pred_rf)), '.3f'))\n",
    "print(\"\\nRMSE: \", rmse)"
   ]
  },
  {
   "cell_type": "markdown",
   "metadata": {},
   "source": [
    "## Visualising the results"
   ]
  },
  {
   "cell_type": "code",
   "execution_count": null,
   "metadata": {},
   "outputs": [],
   "source": [
    "# Visualising the Random Forest Regression results\n",
    "X_grid = np.arange(min(X), max(X), 0.01) \n",
    "\n",
    "# Reshape for reshaping the data into a len(X_grid)*1 array, \n",
    "# i.e. to make a column out of the X_grid value                  \n",
    "X_grid = X_grid.reshape((len(X_grid), 1))\n",
    "\n",
    "# Scatter plot for original data\n",
    "plt.scatter(X, y, color = 'blue')  \n",
    "\n",
    "# Plot predicted data\n",
    "plt.plot(X_grid, rf_regressor.predict(X_grid), \n",
    "        color = 'blue') \n",
    "plt.title('Random Forest Regression')\n",
    "plt.xlabel('Danceability')\n",
    "plt.ylabel('Popularity')\n",
    "plt.show()"
   ]
  },
  {
   "cell_type": "markdown",
   "metadata": {},
   "source": [
    "---\n",
    "# Support Vector Regression "
   ]
  },
  {
   "cell_type": "code",
   "execution_count": null,
   "metadata": {},
   "outputs": [],
   "source": [
    "from sklearn.svm import SVR\n",
    "\n",
    "X_svr = song_df.drop([\"song_popularity\"],axis=1)\n",
    "y_svr = song_df[\"song_popularity\"]"
   ]
  },
  {
   "cell_type": "code",
   "execution_count": null,
   "metadata": {},
   "outputs": [],
   "source": [
    "# Feature scaling\n",
    "sc_x = StandardScaler()\n",
    "X_svr = sc_x.fit_transform(X_svr)\n",
    "sc_y = StandardScaler()\n",
    "y_svr = sc_y.fit_transform(y_svr)"
   ]
  },
  {
   "cell_type": "code",
   "execution_count": null,
   "metadata": {},
   "outputs": [],
   "source": [
    "# Splitting the dataset into training and testing set (80/20)\n",
    "X_train_svr, X_test_svr, y_train_svr, y_test_svr = train_test_split(X_svr, y_svr, test_size = 0.2, random_state = 28)"
   ]
  },
  {
   "cell_type": "code",
   "execution_count": null,
   "metadata": {},
   "outputs": [],
   "source": [
    "# Initializing the SVR model with 10 decision trees\n",
    "svr_model = SVR(kernel = 'rbf')\n",
    "\n",
    "# Fitting the SVR model to the data\n",
    "svr_model.fit(X_train_svr, y_train_svr.ravel())"
   ]
  },
  {
   "cell_type": "markdown",
   "metadata": {},
   "source": [
    "## Calculating the loss after training"
   ]
  },
  {
   "cell_type": "code",
   "execution_count": null,
   "metadata": {},
   "outputs": [],
   "source": [
    "# Predicting the target values of the test set\n",
    "y_pred = svr_model.predict(X_test_svr)\n",
    "\n",
    "# RMSE (Root Mean Square Error)\n",
    "rmse = float(format(np.sqrt(mean_squared_error(y_test_svr, y_pred)), '.3f'))\n",
    "print(\"\\nRMSE: \", rmse)"
   ]
  },
  {
   "attachments": {},
   "cell_type": "markdown",
   "metadata": {},
   "source": [
    "---\n",
    "# RANSAC (Robust Regression)"
   ]
  },
  {
   "cell_type": "markdown",
   "metadata": {},
   "source": [
    "---  ---\n",
    "### END OF MODELS\n",
    "--- ---"
   ]
  },
  {
   "attachments": {},
   "cell_type": "markdown",
   "metadata": {},
   "source": [
    "\n",
    "\n",
    "---    \n",
    "# Cross Validation\n",
    "For model selection. Decide which model produces the best results."
   ]
  },
  {
   "cell_type": "code",
   "execution_count": null,
   "metadata": {},
   "outputs": [],
   "source": [
    "from sklearn.model_selection import KFold\n",
    "from sklearn.model_selection import cross_val_score\n",
    "from sklearn import svm"
   ]
  },
  {
   "cell_type": "markdown",
   "metadata": {},
   "source": [
    "## K-Fold CV"
   ]
  },
  {
   "cell_type": "code",
   "execution_count": null,
   "metadata": {},
   "outputs": [],
   "source": [
    "# Escolher entre 5-10 folds\n",
    "cv = KFold(n_splits=10, random_state=1, shuffle=True)\n",
    "\n",
    "# Use k-fold CV to evaluate model\n",
    "scores = cross_val_score(model_ann, X_ANN, y_ANN, scoring='neg_mean_absolute_error',\n",
    "                        cv=cv, n_jobs=-1)\n",
    "\n",
    "# Escolher este ou o de cima, descomentando\n",
    "#scores = cross_val_score(model, X, y, scoring='neg_mean_squared_error',\n",
    "#                        cv=cv, n_jobs=-1)\n",
    "\n",
    "#view MAE\n",
    "mean(absolute(scores))\n",
    "\n",
    "# Para o scores de baixo \n",
    "#view RMSE\n",
    "#sqrt(mean(absolute(scores)))"
   ]
  },
  {
   "cell_type": "markdown",
   "metadata": {},
   "source": [
    "--- \n",
    "# PyCaret\n",
    "### Machine learning and model management tool that speeds up the experiment cycle exponentially "
   ]
  },
  {
   "cell_type": "code",
   "execution_count": 119,
   "metadata": {},
   "outputs": [
    {
     "name": "stdout",
     "output_type": "stream",
     "text": [
      "Requirement already satisfied: pycaret in /Users/teresafortes/opt/anaconda3/envs/daa2223/lib/python3.6/site-packages (2.3.10)\n",
      "Requirement already satisfied: pyLDAvis in /Users/teresafortes/opt/anaconda3/envs/daa2223/lib/python3.6/site-packages (from pycaret) (3.2.2)\n",
      "Requirement already satisfied: pandas-profiling>=2.8.0 in /Users/teresafortes/opt/anaconda3/envs/daa2223/lib/python3.6/site-packages (from pycaret) (3.1.0)\n",
      "Requirement already satisfied: scikit-learn==0.23.2 in /Users/teresafortes/opt/anaconda3/envs/daa2223/lib/python3.6/site-packages (from pycaret) (0.23.2)\n",
      "Requirement already satisfied: gensim<4.0.0 in /Users/teresafortes/opt/anaconda3/envs/daa2223/lib/python3.6/site-packages (from pycaret) (3.8.3)\n",
      "Requirement already satisfied: textblob in /Users/teresafortes/opt/anaconda3/envs/daa2223/lib/python3.6/site-packages (from pycaret) (0.17.1)\n",
      "Requirement already satisfied: mlflow in /Users/teresafortes/opt/anaconda3/envs/daa2223/lib/python3.6/site-packages (from pycaret) (1.23.1)\n",
      "Requirement already satisfied: mlxtend>=0.17.0 in /Users/teresafortes/opt/anaconda3/envs/daa2223/lib/python3.6/site-packages (from pycaret) (0.19.0)\n",
      "Requirement already satisfied: kmodes>=0.10.1 in /Users/teresafortes/opt/anaconda3/envs/daa2223/lib/python3.6/site-packages (from pycaret) (0.12.2)\n",
      "Requirement already satisfied: matplotlib in /Users/teresafortes/opt/anaconda3/envs/daa2223/lib/python3.6/site-packages (from pycaret) (3.3.4)\n",
      "Requirement already satisfied: ipywidgets in /Users/teresafortes/opt/anaconda3/envs/daa2223/lib/python3.6/site-packages (from pycaret) (7.7.2)\n",
      "Requirement already satisfied: pyyaml<6.0.0 in /Users/teresafortes/opt/anaconda3/envs/daa2223/lib/python3.6/site-packages (from pycaret) (5.4.1)\n",
      "Requirement already satisfied: IPython in /Users/teresafortes/opt/anaconda3/envs/daa2223/lib/python3.6/site-packages (from pycaret) (7.16.1)\n",
      "Requirement already satisfied: Boruta in /Users/teresafortes/opt/anaconda3/envs/daa2223/lib/python3.6/site-packages (from pycaret) (0.3)\n",
      "Requirement already satisfied: wordcloud in /Users/teresafortes/opt/anaconda3/envs/daa2223/lib/python3.6/site-packages (from pycaret) (1.8.2.2)\n",
      "Requirement already satisfied: lightgbm>=2.3.1 in /Users/teresafortes/opt/anaconda3/envs/daa2223/lib/python3.6/site-packages (from pycaret) (3.3.3)\n",
      "Requirement already satisfied: scipy<=1.5.4 in /Users/teresafortes/opt/anaconda3/envs/daa2223/lib/python3.6/site-packages (from pycaret) (1.5.2)\n",
      "Requirement already satisfied: seaborn in /Users/teresafortes/opt/anaconda3/envs/daa2223/lib/python3.6/site-packages (from pycaret) (0.11.2)\n",
      "Requirement already satisfied: numba<0.55 in /Users/teresafortes/opt/anaconda3/envs/daa2223/lib/python3.6/site-packages (from pycaret) (0.53.1)\n",
      "Requirement already satisfied: nltk in /Users/teresafortes/opt/anaconda3/envs/daa2223/lib/python3.6/site-packages (from pycaret) (3.6.7)\n",
      "Requirement already satisfied: umap-learn in /Users/teresafortes/opt/anaconda3/envs/daa2223/lib/python3.6/site-packages (from pycaret) (0.5.3)\n",
      "Requirement already satisfied: scikit-plot in /Users/teresafortes/opt/anaconda3/envs/daa2223/lib/python3.6/site-packages (from pycaret) (0.3.7)\n",
      "Requirement already satisfied: joblib in /Users/teresafortes/opt/anaconda3/envs/daa2223/lib/python3.6/site-packages (from pycaret) (1.0.1)\n",
      "Requirement already satisfied: plotly>=4.4.1 in /Users/teresafortes/opt/anaconda3/envs/daa2223/lib/python3.6/site-packages (from pycaret) (5.11.0)\n",
      "Requirement already satisfied: pyod in /Users/teresafortes/opt/anaconda3/envs/daa2223/lib/python3.6/site-packages (from pycaret) (1.0.6)\n",
      "Requirement already satisfied: cufflinks>=0.17.0 in /Users/teresafortes/opt/anaconda3/envs/daa2223/lib/python3.6/site-packages (from pycaret) (0.17.3)\n",
      "Requirement already satisfied: yellowbrick>=1.0.1 in /Users/teresafortes/opt/anaconda3/envs/daa2223/lib/python3.6/site-packages (from pycaret) (1.3.post1)\n",
      "Requirement already satisfied: imbalanced-learn==0.7.0 in /Users/teresafortes/opt/anaconda3/envs/daa2223/lib/python3.6/site-packages (from pycaret) (0.7.0)\n",
      "Requirement already satisfied: pandas in /Users/teresafortes/opt/anaconda3/envs/daa2223/lib/python3.6/site-packages (from pycaret) (1.1.5)\n",
      "Requirement already satisfied: spacy<2.4.0 in /Users/teresafortes/opt/anaconda3/envs/daa2223/lib/python3.6/site-packages (from pycaret) (2.3.8)\n",
      "Requirement already satisfied: numpy>=1.13.3 in /Users/teresafortes/opt/anaconda3/envs/daa2223/lib/python3.6/site-packages (from imbalanced-learn==0.7.0->pycaret) (1.19.3)\n",
      "Requirement already satisfied: threadpoolctl>=2.0.0 in /Users/teresafortes/opt/anaconda3/envs/daa2223/lib/python3.6/site-packages (from scikit-learn==0.23.2->pycaret) (2.2.0)\n",
      "Requirement already satisfied: colorlover>=0.2.1 in /Users/teresafortes/opt/anaconda3/envs/daa2223/lib/python3.6/site-packages (from cufflinks>=0.17.0->pycaret) (0.3.0)\n",
      "Requirement already satisfied: six>=1.9.0 in /Users/teresafortes/opt/anaconda3/envs/daa2223/lib/python3.6/site-packages (from cufflinks>=0.17.0->pycaret) (1.16.0)\n",
      "Requirement already satisfied: setuptools>=34.4.1 in /Users/teresafortes/opt/anaconda3/envs/daa2223/lib/python3.6/site-packages (from cufflinks>=0.17.0->pycaret) (59.6.0)\n",
      "Requirement already satisfied: smart-open>=1.8.1 in /Users/teresafortes/opt/anaconda3/envs/daa2223/lib/python3.6/site-packages (from gensim<4.0.0->pycaret) (6.2.0)\n",
      "Requirement already satisfied: pickleshare in /Users/teresafortes/opt/anaconda3/envs/daa2223/lib/python3.6/site-packages (from IPython->pycaret) (0.7.5)\n",
      "Requirement already satisfied: pygments in /Users/teresafortes/opt/anaconda3/envs/daa2223/lib/python3.6/site-packages (from IPython->pycaret) (2.14.0)\n",
      "Requirement already satisfied: traitlets>=4.2 in /Users/teresafortes/opt/anaconda3/envs/daa2223/lib/python3.6/site-packages (from IPython->pycaret) (4.3.3)\n",
      "Requirement already satisfied: backcall in /Users/teresafortes/opt/anaconda3/envs/daa2223/lib/python3.6/site-packages (from IPython->pycaret) (0.2.0)\n",
      "Requirement already satisfied: decorator in /Users/teresafortes/opt/anaconda3/envs/daa2223/lib/python3.6/site-packages (from IPython->pycaret) (5.1.1)\n",
      "Requirement already satisfied: appnope in /Users/teresafortes/opt/anaconda3/envs/daa2223/lib/python3.6/site-packages (from IPython->pycaret) (0.1.2)\n",
      "Requirement already satisfied: pexpect in /Users/teresafortes/opt/anaconda3/envs/daa2223/lib/python3.6/site-packages (from IPython->pycaret) (4.8.0)\n",
      "Requirement already satisfied: jedi>=0.10 in /Users/teresafortes/opt/anaconda3/envs/daa2223/lib/python3.6/site-packages (from IPython->pycaret) (0.17.2)\n",
      "Requirement already satisfied: prompt-toolkit!=3.0.0,!=3.0.1,<3.1.0,>=2.0.0 in /Users/teresafortes/opt/anaconda3/envs/daa2223/lib/python3.6/site-packages (from IPython->pycaret) (3.0.36)\n",
      "Requirement already satisfied: widgetsnbextension~=3.6.0 in /Users/teresafortes/opt/anaconda3/envs/daa2223/lib/python3.6/site-packages (from ipywidgets->pycaret) (3.6.1)\n",
      "Requirement already satisfied: ipykernel>=4.5.1 in /Users/teresafortes/opt/anaconda3/envs/daa2223/lib/python3.6/site-packages (from ipywidgets->pycaret) (5.5.6)\n",
      "Requirement already satisfied: ipython-genutils~=0.2.0 in /Users/teresafortes/opt/anaconda3/envs/daa2223/lib/python3.6/site-packages (from ipywidgets->pycaret) (0.2.0)\n",
      "Requirement already satisfied: jupyterlab-widgets<3,>=1.0.0 in /Users/teresafortes/opt/anaconda3/envs/daa2223/lib/python3.6/site-packages (from ipywidgets->pycaret) (1.1.1)\n",
      "Requirement already satisfied: jupyter-client in /Users/teresafortes/opt/anaconda3/envs/daa2223/lib/python3.6/site-packages (from ipykernel>=4.5.1->ipywidgets->pycaret) (7.1.2)\n",
      "Requirement already satisfied: tornado>=4.2 in /Users/teresafortes/opt/anaconda3/envs/daa2223/lib/python3.6/site-packages (from ipykernel>=4.5.1->ipywidgets->pycaret) (6.1)\n",
      "Collecting parso<0.8.0,>=0.7.0\n",
      "  Using cached parso-0.7.1-py2.py3-none-any.whl (109 kB)\n",
      "Requirement already satisfied: wheel in /Users/teresafortes/opt/anaconda3/envs/daa2223/lib/python3.6/site-packages (from lightgbm>=2.3.1->pycaret) (0.37.1)\n",
      "Requirement already satisfied: python-dateutil>=2.1 in /Users/teresafortes/opt/anaconda3/envs/daa2223/lib/python3.6/site-packages (from matplotlib->pycaret) (2.8.2)\n",
      "Requirement already satisfied: pillow>=6.2.0 in /Users/teresafortes/opt/anaconda3/envs/daa2223/lib/python3.6/site-packages (from matplotlib->pycaret) (8.3.1)\n",
      "Requirement already satisfied: pyparsing!=2.0.4,!=2.1.2,!=2.1.6,>=2.0.3 in /Users/teresafortes/opt/anaconda3/envs/daa2223/lib/python3.6/site-packages (from matplotlib->pycaret) (3.0.4)\n",
      "Requirement already satisfied: kiwisolver>=1.0.1 in /Users/teresafortes/opt/anaconda3/envs/daa2223/lib/python3.6/site-packages (from matplotlib->pycaret) (1.3.1)\n",
      "Requirement already satisfied: cycler>=0.10 in /Users/teresafortes/opt/anaconda3/envs/daa2223/lib/python3.6/site-packages (from matplotlib->pycaret) (0.11.0)\n",
      "Requirement already satisfied: llvmlite<0.37,>=0.36.0rc1 in /Users/teresafortes/opt/anaconda3/envs/daa2223/lib/python3.6/site-packages (from numba<0.55->pycaret) (0.36.0)\n",
      "Requirement already satisfied: pytz>=2017.2 in /Users/teresafortes/opt/anaconda3/envs/daa2223/lib/python3.6/site-packages (from pandas->pycaret) (2021.3)\n",
      "Requirement already satisfied: multimethod>=1.4 in /Users/teresafortes/opt/anaconda3/envs/daa2223/lib/python3.6/site-packages (from pandas-profiling>=2.8.0->pycaret) (1.5)\n",
      "Requirement already satisfied: markupsafe~=2.0.1 in /Users/teresafortes/opt/anaconda3/envs/daa2223/lib/python3.6/site-packages (from pandas-profiling>=2.8.0->pycaret) (2.0.1)\n",
      "Requirement already satisfied: pydantic>=1.8.1 in /Users/teresafortes/opt/anaconda3/envs/daa2223/lib/python3.6/site-packages (from pandas-profiling>=2.8.0->pycaret) (1.9.2)\n",
      "Requirement already satisfied: htmlmin>=0.1.12 in /Users/teresafortes/opt/anaconda3/envs/daa2223/lib/python3.6/site-packages (from pandas-profiling>=2.8.0->pycaret) (0.1.12)\n",
      "Requirement already satisfied: visions[type_image_path]==0.7.4 in /Users/teresafortes/opt/anaconda3/envs/daa2223/lib/python3.6/site-packages (from pandas-profiling>=2.8.0->pycaret) (0.7.4)\n",
      "Requirement already satisfied: phik>=0.11.1 in /Users/teresafortes/opt/anaconda3/envs/daa2223/lib/python3.6/site-packages (from pandas-profiling>=2.8.0->pycaret) (0.12.0)\n",
      "Requirement already satisfied: tangled-up-in-unicode==0.1.0 in /Users/teresafortes/opt/anaconda3/envs/daa2223/lib/python3.6/site-packages (from pandas-profiling>=2.8.0->pycaret) (0.1.0)\n",
      "Requirement already satisfied: requests>=2.24.0 in /Users/teresafortes/opt/anaconda3/envs/daa2223/lib/python3.6/site-packages (from pandas-profiling>=2.8.0->pycaret) (2.27.1)\n",
      "Requirement already satisfied: jinja2>=2.11.1 in /Users/teresafortes/opt/anaconda3/envs/daa2223/lib/python3.6/site-packages (from pandas-profiling>=2.8.0->pycaret) (3.0.3)\n",
      "Requirement already satisfied: missingno>=0.4.2 in /Users/teresafortes/opt/anaconda3/envs/daa2223/lib/python3.6/site-packages (from pandas-profiling>=2.8.0->pycaret) (0.5.1)\n",
      "Requirement already satisfied: tqdm>=4.48.2 in /Users/teresafortes/opt/anaconda3/envs/daa2223/lib/python3.6/site-packages (from pandas-profiling>=2.8.0->pycaret) (4.64.1)\n",
      "Requirement already satisfied: networkx>=2.4 in /Users/teresafortes/opt/anaconda3/envs/daa2223/lib/python3.6/site-packages (from visions[type_image_path]==0.7.4->pandas-profiling>=2.8.0->pycaret) (2.5.1)\n",
      "Requirement already satisfied: attrs>=19.3.0 in /Users/teresafortes/opt/anaconda3/envs/daa2223/lib/python3.6/site-packages (from visions[type_image_path]==0.7.4->pandas-profiling>=2.8.0->pycaret) (21.4.0)\n",
      "Requirement already satisfied: imagehash in /Users/teresafortes/opt/anaconda3/envs/daa2223/lib/python3.6/site-packages (from visions[type_image_path]==0.7.4->pandas-profiling>=2.8.0->pycaret) (4.3.1)\n",
      "Collecting decorator\n",
      "  Using cached decorator-4.4.2-py2.py3-none-any.whl (9.2 kB)\n",
      "Requirement already satisfied: tenacity>=6.2.0 in /Users/teresafortes/opt/anaconda3/envs/daa2223/lib/python3.6/site-packages (from plotly>=4.4.1->pycaret) (8.1.0)\n",
      "Requirement already satisfied: wcwidth in /Users/teresafortes/opt/anaconda3/envs/daa2223/lib/python3.6/site-packages (from prompt-toolkit!=3.0.0,!=3.0.1,<3.1.0,>=2.0.0->IPython->pycaret) (0.2.5)\n",
      "Requirement already satisfied: dataclasses>=0.6 in /Users/teresafortes/opt/anaconda3/envs/daa2223/lib/python3.6/site-packages (from pydantic>=1.8.1->pandas-profiling>=2.8.0->pycaret) (0.8)\n",
      "Requirement already satisfied: typing-extensions>=3.7.4.3 in /Users/teresafortes/opt/anaconda3/envs/daa2223/lib/python3.6/site-packages (from pydantic>=1.8.1->pandas-profiling>=2.8.0->pycaret) (3.7.4.3)\n",
      "Requirement already satisfied: idna<4,>=2.5 in /Users/teresafortes/opt/anaconda3/envs/daa2223/lib/python3.6/site-packages (from requests>=2.24.0->pandas-profiling>=2.8.0->pycaret) (3.3)\n",
      "Requirement already satisfied: certifi>=2017.4.17 in /Users/teresafortes/opt/anaconda3/envs/daa2223/lib/python3.6/site-packages (from requests>=2.24.0->pandas-profiling>=2.8.0->pycaret) (2021.5.30)\n",
      "Requirement already satisfied: urllib3<1.27,>=1.21.1 in /Users/teresafortes/opt/anaconda3/envs/daa2223/lib/python3.6/site-packages (from requests>=2.24.0->pandas-profiling>=2.8.0->pycaret) (1.26.8)\n",
      "Requirement already satisfied: charset-normalizer~=2.0.0 in /Users/teresafortes/opt/anaconda3/envs/daa2223/lib/python3.6/site-packages (from requests>=2.24.0->pandas-profiling>=2.8.0->pycaret) (2.0.4)\n",
      "Requirement already satisfied: blis<0.8.0,>=0.4.0 in /Users/teresafortes/opt/anaconda3/envs/daa2223/lib/python3.6/site-packages (from spacy<2.4.0->pycaret) (0.7.9)\n",
      "Requirement already satisfied: preshed<3.1.0,>=3.0.2 in /Users/teresafortes/opt/anaconda3/envs/daa2223/lib/python3.6/site-packages (from spacy<2.4.0->pycaret) (3.0.8)\n",
      "Requirement already satisfied: catalogue<1.1.0,>=0.0.7 in /Users/teresafortes/opt/anaconda3/envs/daa2223/lib/python3.6/site-packages (from spacy<2.4.0->pycaret) (1.0.2)\n",
      "Requirement already satisfied: murmurhash<1.1.0,>=0.28.0 in /Users/teresafortes/opt/anaconda3/envs/daa2223/lib/python3.6/site-packages (from spacy<2.4.0->pycaret) (1.0.9)\n",
      "Requirement already satisfied: cymem<2.1.0,>=2.0.2 in /Users/teresafortes/opt/anaconda3/envs/daa2223/lib/python3.6/site-packages (from spacy<2.4.0->pycaret) (2.0.7)\n",
      "Requirement already satisfied: srsly<1.1.0,>=1.0.2 in /Users/teresafortes/opt/anaconda3/envs/daa2223/lib/python3.6/site-packages (from spacy<2.4.0->pycaret) (1.0.6)\n",
      "Requirement already satisfied: thinc<7.5.0,>=7.4.1 in /Users/teresafortes/opt/anaconda3/envs/daa2223/lib/python3.6/site-packages (from spacy<2.4.0->pycaret) (7.4.6)\n",
      "Requirement already satisfied: wasabi<1.1.0,>=0.4.0 in /Users/teresafortes/opt/anaconda3/envs/daa2223/lib/python3.6/site-packages (from spacy<2.4.0->pycaret) (0.10.1)\n",
      "Requirement already satisfied: plac<1.2.0,>=0.9.6 in /Users/teresafortes/opt/anaconda3/envs/daa2223/lib/python3.6/site-packages (from spacy<2.4.0->pycaret) (1.1.3)\n",
      "Requirement already satisfied: zipp>=0.5 in /Users/teresafortes/opt/anaconda3/envs/daa2223/lib/python3.6/site-packages (from catalogue<1.1.0,>=0.0.7->spacy<2.4.0->pycaret) (3.6.0)\n",
      "Requirement already satisfied: importlib-resources in /Users/teresafortes/opt/anaconda3/envs/daa2223/lib/python3.6/site-packages (from tqdm>=4.48.2->pandas-profiling>=2.8.0->pycaret) (5.4.0)\n",
      "Requirement already satisfied: notebook>=4.4.1 in /Users/teresafortes/opt/anaconda3/envs/daa2223/lib/python3.6/site-packages (from widgetsnbextension~=3.6.0->ipywidgets->pycaret) (6.4.3)\n",
      "Requirement already satisfied: Send2Trash>=1.5.0 in /Users/teresafortes/opt/anaconda3/envs/daa2223/lib/python3.6/site-packages (from notebook>=4.4.1->widgetsnbextension~=3.6.0->ipywidgets->pycaret) (1.8.0)\n",
      "Requirement already satisfied: argon2-cffi in /Users/teresafortes/opt/anaconda3/envs/daa2223/lib/python3.6/site-packages (from notebook>=4.4.1->widgetsnbextension~=3.6.0->ipywidgets->pycaret) (20.1.0)\n",
      "Requirement already satisfied: pyzmq>=17 in /Users/teresafortes/opt/anaconda3/envs/daa2223/lib/python3.6/site-packages (from notebook>=4.4.1->widgetsnbextension~=3.6.0->ipywidgets->pycaret) (25.0.0)\n",
      "Requirement already satisfied: nbconvert in /Users/teresafortes/opt/anaconda3/envs/daa2223/lib/python3.6/site-packages (from notebook>=4.4.1->widgetsnbextension~=3.6.0->ipywidgets->pycaret) (6.0.7)\n",
      "Requirement already satisfied: prometheus-client in /Users/teresafortes/opt/anaconda3/envs/daa2223/lib/python3.6/site-packages (from notebook>=4.4.1->widgetsnbextension~=3.6.0->ipywidgets->pycaret) (0.13.1)\n",
      "Requirement already satisfied: nbformat in /Users/teresafortes/opt/anaconda3/envs/daa2223/lib/python3.6/site-packages (from notebook>=4.4.1->widgetsnbextension~=3.6.0->ipywidgets->pycaret) (5.1.3)\n",
      "Requirement already satisfied: terminado>=0.8.3 in /Users/teresafortes/opt/anaconda3/envs/daa2223/lib/python3.6/site-packages (from notebook>=4.4.1->widgetsnbextension~=3.6.0->ipywidgets->pycaret) (0.9.4)\n",
      "Requirement already satisfied: jupyter-core>=4.6.1 in /Users/teresafortes/opt/anaconda3/envs/daa2223/lib/python3.6/site-packages (from notebook>=4.4.1->widgetsnbextension~=3.6.0->ipywidgets->pycaret) (4.9.2)\n",
      "Requirement already satisfied: nest-asyncio>=1.5 in /Users/teresafortes/opt/anaconda3/envs/daa2223/lib/python3.6/site-packages (from jupyter-client->ipykernel>=4.5.1->ipywidgets->pycaret) (1.5.6)\n",
      "Requirement already satisfied: entrypoints in /Users/teresafortes/opt/anaconda3/envs/daa2223/lib/python3.6/site-packages (from jupyter-client->ipykernel>=4.5.1->ipywidgets->pycaret) (0.3)\n",
      "Requirement already satisfied: ptyprocess in /Users/teresafortes/opt/anaconda3/envs/daa2223/lib/python3.6/site-packages (from terminado>=0.8.3->notebook>=4.4.1->widgetsnbextension~=3.6.0->ipywidgets->pycaret) (0.7.0)\n",
      "Requirement already satisfied: cffi>=1.0.0 in /Users/teresafortes/opt/anaconda3/envs/daa2223/lib/python3.6/site-packages (from argon2-cffi->notebook>=4.4.1->widgetsnbextension~=3.6.0->ipywidgets->pycaret) (1.14.6)\n",
      "Requirement already satisfied: pycparser in /Users/teresafortes/opt/anaconda3/envs/daa2223/lib/python3.6/site-packages (from cffi>=1.0.0->argon2-cffi->notebook>=4.4.1->widgetsnbextension~=3.6.0->ipywidgets->pycaret) (2.21)\n",
      "Requirement already satisfied: PyWavelets in /Users/teresafortes/opt/anaconda3/envs/daa2223/lib/python3.6/site-packages (from imagehash->visions[type_image_path]==0.7.4->pandas-profiling>=2.8.0->pycaret) (1.1.1)\n",
      "Requirement already satisfied: docker>=4.0.0 in /Users/teresafortes/opt/anaconda3/envs/daa2223/lib/python3.6/site-packages (from mlflow->pycaret) (5.0.3)\n",
      "Requirement already satisfied: protobuf>=3.7.0 in /Users/teresafortes/opt/anaconda3/envs/daa2223/lib/python3.6/site-packages (from mlflow->pycaret) (3.19.6)\n",
      "Requirement already satisfied: alembic in /Users/teresafortes/opt/anaconda3/envs/daa2223/lib/python3.6/site-packages (from mlflow->pycaret) (1.7.7)\n",
      "Requirement already satisfied: gunicorn in /Users/teresafortes/opt/anaconda3/envs/daa2223/lib/python3.6/site-packages (from mlflow->pycaret) (20.1.0)\n",
      "Requirement already satisfied: sqlalchemy in /Users/teresafortes/opt/anaconda3/envs/daa2223/lib/python3.6/site-packages (from mlflow->pycaret) (1.4.44)\n",
      "Requirement already satisfied: importlib-metadata!=4.7.0,>=3.7.0 in /Users/teresafortes/opt/anaconda3/envs/daa2223/lib/python3.6/site-packages (from mlflow->pycaret) (4.8.1)\n",
      "Requirement already satisfied: gitpython>=2.1.0 in /Users/teresafortes/opt/anaconda3/envs/daa2223/lib/python3.6/site-packages (from mlflow->pycaret) (3.1.18)\n",
      "Requirement already satisfied: click>=7.0 in /Users/teresafortes/opt/anaconda3/envs/daa2223/lib/python3.6/site-packages (from mlflow->pycaret) (8.0.4)\n",
      "Requirement already satisfied: cloudpickle in /Users/teresafortes/opt/anaconda3/envs/daa2223/lib/python3.6/site-packages (from mlflow->pycaret) (2.0.0)\n",
      "Requirement already satisfied: sqlparse>=0.3.1 in /Users/teresafortes/opt/anaconda3/envs/daa2223/lib/python3.6/site-packages (from mlflow->pycaret) (0.4.3)\n",
      "Requirement already satisfied: prometheus-flask-exporter in /Users/teresafortes/opt/anaconda3/envs/daa2223/lib/python3.6/site-packages (from mlflow->pycaret) (0.21.0)\n",
      "Requirement already satisfied: querystring-parser in /Users/teresafortes/opt/anaconda3/envs/daa2223/lib/python3.6/site-packages (from mlflow->pycaret) (1.2.4)\n",
      "Requirement already satisfied: packaging in /Users/teresafortes/opt/anaconda3/envs/daa2223/lib/python3.6/site-packages (from mlflow->pycaret) (21.3)\n",
      "Requirement already satisfied: Flask in /Users/teresafortes/opt/anaconda3/envs/daa2223/lib/python3.6/site-packages (from mlflow->pycaret) (2.0.3)\n",
      "Requirement already satisfied: databricks-cli>=0.8.7 in /Users/teresafortes/opt/anaconda3/envs/daa2223/lib/python3.6/site-packages (from mlflow->pycaret) (0.17.3)\n",
      "Requirement already satisfied: pyjwt>=1.7.0 in /Users/teresafortes/opt/anaconda3/envs/daa2223/lib/python3.6/site-packages (from databricks-cli>=0.8.7->mlflow->pycaret) (2.4.0)\n",
      "Requirement already satisfied: oauthlib>=3.1.0 in /Users/teresafortes/opt/anaconda3/envs/daa2223/lib/python3.6/site-packages (from databricks-cli>=0.8.7->mlflow->pycaret) (3.2.2)\n",
      "Requirement already satisfied: tabulate>=0.7.7 in /Users/teresafortes/opt/anaconda3/envs/daa2223/lib/python3.6/site-packages (from databricks-cli>=0.8.7->mlflow->pycaret) (0.8.10)\n",
      "Requirement already satisfied: websocket-client>=0.32.0 in /Users/teresafortes/opt/anaconda3/envs/daa2223/lib/python3.6/site-packages (from docker>=4.0.0->mlflow->pycaret) (1.3.1)\n",
      "Requirement already satisfied: gitdb<5,>=4.0.1 in /Users/teresafortes/opt/anaconda3/envs/daa2223/lib/python3.6/site-packages (from gitpython>=2.1.0->mlflow->pycaret) (4.0.9)\n",
      "Requirement already satisfied: smmap<6,>=3.0.1 in /Users/teresafortes/opt/anaconda3/envs/daa2223/lib/python3.6/site-packages (from gitdb<5,>=4.0.1->gitpython>=2.1.0->mlflow->pycaret) (5.0.0)\n",
      "Requirement already satisfied: Mako in /Users/teresafortes/opt/anaconda3/envs/daa2223/lib/python3.6/site-packages (from alembic->mlflow->pycaret) (1.1.6)\n",
      "Requirement already satisfied: greenlet!=0.4.17 in /Users/teresafortes/opt/anaconda3/envs/daa2223/lib/python3.6/site-packages (from sqlalchemy->mlflow->pycaret) (2.0.1)\n",
      "Requirement already satisfied: Werkzeug>=2.0 in /Users/teresafortes/opt/anaconda3/envs/daa2223/lib/python3.6/site-packages (from Flask->mlflow->pycaret) (2.0.3)\n",
      "Requirement already satisfied: itsdangerous>=2.0 in /Users/teresafortes/opt/anaconda3/envs/daa2223/lib/python3.6/site-packages (from Flask->mlflow->pycaret) (2.0.1)\n",
      "Requirement already satisfied: bleach in /Users/teresafortes/opt/anaconda3/envs/daa2223/lib/python3.6/site-packages (from nbconvert->notebook>=4.4.1->widgetsnbextension~=3.6.0->ipywidgets->pycaret) (4.1.0)\n",
      "Requirement already satisfied: pandocfilters>=1.4.1 in /Users/teresafortes/opt/anaconda3/envs/daa2223/lib/python3.6/site-packages (from nbconvert->notebook>=4.4.1->widgetsnbextension~=3.6.0->ipywidgets->pycaret) (1.5.0)\n",
      "Requirement already satisfied: mistune<2,>=0.8.1 in /Users/teresafortes/opt/anaconda3/envs/daa2223/lib/python3.6/site-packages (from nbconvert->notebook>=4.4.1->widgetsnbextension~=3.6.0->ipywidgets->pycaret) (0.8.4)\n",
      "Requirement already satisfied: defusedxml in /Users/teresafortes/opt/anaconda3/envs/daa2223/lib/python3.6/site-packages (from nbconvert->notebook>=4.4.1->widgetsnbextension~=3.6.0->ipywidgets->pycaret) (0.7.1)\n",
      "Requirement already satisfied: jupyterlab-pygments in /Users/teresafortes/opt/anaconda3/envs/daa2223/lib/python3.6/site-packages (from nbconvert->notebook>=4.4.1->widgetsnbextension~=3.6.0->ipywidgets->pycaret) (0.1.2)\n",
      "Requirement already satisfied: nbclient<0.6.0,>=0.5.0 in /Users/teresafortes/opt/anaconda3/envs/daa2223/lib/python3.6/site-packages (from nbconvert->notebook>=4.4.1->widgetsnbextension~=3.6.0->ipywidgets->pycaret) (0.5.3)\n",
      "Requirement already satisfied: testpath in /Users/teresafortes/opt/anaconda3/envs/daa2223/lib/python3.6/site-packages (from nbconvert->notebook>=4.4.1->widgetsnbextension~=3.6.0->ipywidgets->pycaret) (0.5.0)\n",
      "Requirement already satisfied: async-generator in /Users/teresafortes/opt/anaconda3/envs/daa2223/lib/python3.6/site-packages (from nbclient<0.6.0,>=0.5.0->nbconvert->notebook>=4.4.1->widgetsnbextension~=3.6.0->ipywidgets->pycaret) (1.10)\n",
      "Requirement already satisfied: jsonschema!=2.5.0,>=2.4 in /Users/teresafortes/opt/anaconda3/envs/daa2223/lib/python3.6/site-packages (from nbformat->notebook>=4.4.1->widgetsnbextension~=3.6.0->ipywidgets->pycaret) (3.2.0)\n",
      "Requirement already satisfied: pyrsistent>=0.14.0 in /Users/teresafortes/opt/anaconda3/envs/daa2223/lib/python3.6/site-packages (from jsonschema!=2.5.0,>=2.4->nbformat->notebook>=4.4.1->widgetsnbextension~=3.6.0->ipywidgets->pycaret) (0.17.3)\n",
      "Requirement already satisfied: webencodings in /Users/teresafortes/opt/anaconda3/envs/daa2223/lib/python3.6/site-packages (from bleach->nbconvert->notebook>=4.4.1->widgetsnbextension~=3.6.0->ipywidgets->pycaret) (0.5.1)\n",
      "Requirement already satisfied: regex>=2021.8.3 in /Users/teresafortes/opt/anaconda3/envs/daa2223/lib/python3.6/site-packages (from nltk->pycaret) (2022.10.31)\n",
      "Requirement already satisfied: numexpr in /Users/teresafortes/opt/anaconda3/envs/daa2223/lib/python3.6/site-packages (from pyLDAvis->pycaret) (2.8.1)\n",
      "Requirement already satisfied: future in /Users/teresafortes/opt/anaconda3/envs/daa2223/lib/python3.6/site-packages (from pyLDAvis->pycaret) (0.18.2)\n",
      "Requirement already satisfied: funcy in /Users/teresafortes/opt/anaconda3/envs/daa2223/lib/python3.6/site-packages (from pyLDAvis->pycaret) (1.17)\n",
      "Requirement already satisfied: statsmodels in /Users/teresafortes/opt/anaconda3/envs/daa2223/lib/python3.6/site-packages (from pyod->pycaret) (0.12.1)\n",
      "Requirement already satisfied: patsy>=0.5 in /Users/teresafortes/opt/anaconda3/envs/daa2223/lib/python3.6/site-packages (from statsmodels->pyod->pycaret) (0.5.3)\n",
      "Requirement already satisfied: pynndescent>=0.5 in /Users/teresafortes/opt/anaconda3/envs/daa2223/lib/python3.6/site-packages (from umap-learn->pycaret) (0.5.8)\n",
      "Installing collected packages: decorator, parso\n",
      "  Attempting uninstall: decorator\n",
      "    Found existing installation: decorator 5.1.1\n",
      "    Uninstalling decorator-5.1.1:\n",
      "      Successfully uninstalled decorator-5.1.1\n",
      "  Attempting uninstall: parso\n",
      "    Found existing installation: parso 0.8.3\n",
      "    Uninstalling parso-0.8.3:\n",
      "      Successfully uninstalled parso-0.8.3\n",
      "Successfully installed decorator-4.4.2 parso-0.7.1\n",
      "Requirement already satisfied: imbalanced-learn==0.7.0 in /Users/teresafortes/opt/anaconda3/envs/daa2223/lib/python3.6/site-packages (0.7.0)\n",
      "Requirement already satisfied: joblib>=0.11 in /Users/teresafortes/opt/anaconda3/envs/daa2223/lib/python3.6/site-packages (from imbalanced-learn==0.7.0) (1.0.1)\n",
      "Requirement already satisfied: scikit-learn>=0.23 in /Users/teresafortes/opt/anaconda3/envs/daa2223/lib/python3.6/site-packages (from imbalanced-learn==0.7.0) (0.23.2)\n",
      "Requirement already satisfied: scipy>=0.19.1 in /Users/teresafortes/opt/anaconda3/envs/daa2223/lib/python3.6/site-packages (from imbalanced-learn==0.7.0) (1.5.2)\n",
      "Requirement already satisfied: numpy>=1.13.3 in /Users/teresafortes/opt/anaconda3/envs/daa2223/lib/python3.6/site-packages (from imbalanced-learn==0.7.0) (1.19.3)\n",
      "Requirement already satisfied: threadpoolctl>=2.0.0 in /Users/teresafortes/opt/anaconda3/envs/daa2223/lib/python3.6/site-packages (from scikit-learn>=0.23->imbalanced-learn==0.7.0) (2.2.0)\n"
     ]
    }
   ],
   "source": [
    "!pip install pycaret\n",
    "!pip install imbalanced-learn==0.7.0"
   ]
  },
  {
   "cell_type": "code",
   "execution_count": null,
   "metadata": {},
   "outputs": [],
   "source": [
    "X = song_df.drop([\"song_popularity\"],axis=1)\n",
    "y = song_df[\"song_popularity\"]\n",
    "\n",
    "# Splitting the dataset into training and testing set (80/20)\n",
    "X_train, X_test, y_train, y_test = train_test_split(X, y, test_size = 0.2, random_state = 28)"
   ]
  },
  {
   "cell_type": "code",
   "execution_count": null,
   "metadata": {},
   "outputs": [],
   "source": [
    "# init setup\n",
    "from pycaret.utils import enable_colab\n",
    "from pycaret.regression import *\n",
    "\n",
    "s = setup(X_train, target = \"song_popularity\")\n",
    "\n",
    "# model training and selection\n",
    "best = compare_models()\n",
    "\n",
    "# analyze best model\n",
    "evaluate_model(best)\n",
    "\n",
    "# predict on new data\n",
    "predictions = predict_model(best, data = X_test)\n",
    "\n",
    "# save best pipeline\n",
    "save_model(best, 'my_best_pipeline')"
   ]
  }
 ],
 "metadata": {
  "kernelspec": {
   "display_name": "daa2223",
   "language": "python",
   "name": "python3"
  },
  "language_info": {
   "codemirror_mode": {
    "name": "ipython",
    "version": 3
   },
   "file_extension": ".py",
   "mimetype": "text/x-python",
   "name": "python",
   "nbconvert_exporter": "python",
   "pygments_lexer": "ipython3",
   "version": "3.6.13"
  },
  "orig_nbformat": 4,
  "vscode": {
   "interpreter": {
    "hash": "4fac2a7e490b48aaa39914a829fb59075fb6711a1fd9d13896c28a0747c3cc52"
   }
  }
 },
 "nbformat": 4,
 "nbformat_minor": 2
}
